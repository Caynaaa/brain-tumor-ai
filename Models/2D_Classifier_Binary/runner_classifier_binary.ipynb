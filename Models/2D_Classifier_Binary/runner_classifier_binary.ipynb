{
  "nbformat": 4,
  "nbformat_minor": 0,
  "metadata": {
    "colab": {
      "provenance": []
    },
    "kernelspec": {
      "name": "python3",
      "display_name": "Python 3"
    },
    "language_info": {
      "name": "python"
    }
  },
  "cells": [
    {
      "cell_type": "markdown",
      "source": [],
      "metadata": {
        "id": "0fRXFKijRA-x"
      }
    },
    {
      "cell_type": "code",
      "source": [
        "pip install -U datasets fsspec pytorch-lightning tensorboard albumentations torchmetrics"
      ],
      "metadata": {
        "id": "GLwWq8vtRyIK"
      },
      "execution_count": null,
      "outputs": []
    },
    {
      "cell_type": "markdown",
      "source": [],
      "metadata": {
        "id": "jwD7Cn5TWl5g"
      }
    },
    {
      "cell_type": "code",
      "source": [
        "import os\n",
        "import sys\n",
        "import torch\n",
        "import pytorch_lightning as pl\n",
        "from pytorch_lightning.loggers import TensorBoardLogger\n",
        "\n",
        "from sklearn.model_selection import train_test_split\n",
        "from sklearn.utils.class_weight import compute_class_weight\n",
        "\n",
        "from google.colab import drive\n",
        "\n",
        "from datasets import load_dataset"
      ],
      "metadata": {
        "id": "ZKnczkRAWmPp"
      },
      "execution_count": null,
      "outputs": []
    },
    {
      "cell_type": "markdown",
      "source": [],
      "metadata": {
        "id": "J5rVVgyUR0ro"
      }
    },
    {
      "cell_type": "code",
      "source": [
        "project_path = \"\"\n",
        "\n",
        "sys.path.append(project_path)"
      ],
      "metadata": {
        "id": "-JcDJW7pWgkN"
      },
      "execution_count": null,
      "outputs": []
    },
    {
      "cell_type": "markdown",
      "source": [],
      "metadata": {
        "id": "nxinANrqWg_7"
      }
    },
    {
      "cell_type": "code",
      "source": [
        "from module import DenseNetClassifierBinary\n",
        "from datamodule import BrainTumorDataModule\n",
        "from callbacks import get_callbacks\n",
        "from helper import set_seed"
      ],
      "metadata": {
        "id": "IDfS0VOZRBO1"
      },
      "execution_count": null,
      "outputs": []
    },
    {
      "cell_type": "markdown",
      "source": [],
      "metadata": {
        "id": "YiCtiaVZSx_g"
      }
    },
    {
      "cell_type": "code",
      "source": [
        "%load_ext tensorboard"
      ],
      "metadata": {
        "id": "gUFkJ3oNSyRk"
      },
      "execution_count": null,
      "outputs": []
    },
    {
      "cell_type": "code",
      "source": [
        "drive.mount('/content/drive')"
      ],
      "metadata": {
        "id": "ZcKwK0LYYjmw"
      },
      "execution_count": null,
      "outputs": []
    },
    {
      "cell_type": "markdown",
      "source": [],
      "metadata": {
        "id": "EesbwTvnZINp"
      }
    },
    {
      "cell_type": "code",
      "source": [
        "set_seed(42)"
      ],
      "metadata": {
        "id": "-gOuI7hPZE29"
      },
      "execution_count": null,
      "outputs": []
    },
    {
      "cell_type": "markdown",
      "source": [],
      "metadata": {
        "id": "fQCG4MhfXNIY"
      }
    },
    {
      "cell_type": "code",
      "source": [
        "# Load brain tumor dataset from Hugging Face (auto-cached locally)\n",
        "ds = load_dataset(\"Cayanaaa/BrainTumorDatasets\", name=\"binary\")"
      ],
      "metadata": {
        "id": "W0k7UgQXXNw7"
      },
      "execution_count": null,
      "outputs": []
    },
    {
      "cell_type": "code",
      "source": [
        "# Display class labels and their corresponding integer indices\n",
        "print(ds['train'].features['label'].names)"
      ],
      "metadata": {
        "id": "IwKwZYVTX57H"
      },
      "execution_count": null,
      "outputs": []
    },
    {
      "cell_type": "markdown",
      "source": [],
      "metadata": {
        "id": "T0X3CaW8X373"
      }
    },
    {
      "cell_type": "code",
      "source": [
        "# Split Data\n",
        "train_data = ds['train']\n",
        "images = train_data['image']\n",
        "labels = train_data['label']"
      ],
      "metadata": {
        "id": "Z9H3Ma1vX3Q3"
      },
      "execution_count": null,
      "outputs": []
    },
    {
      "cell_type": "markdown",
      "source": [],
      "metadata": {
        "id": "lDLInP2aYCL6"
      }
    },
    {
      "cell_type": "code",
      "source": [
        "train_imgs, val_imgs, train_labels, val_labels = train_test_split(images, labels,\n",
        "                                                                  test_size=0.2,\n",
        "                                                                  stratify=labels,\n",
        "                                                                  random_state=42\n",
        "                                                                  )"
      ],
      "metadata": {
        "id": "Imp5BMfsYCoa"
      },
      "execution_count": null,
      "outputs": []
    },
    {
      "cell_type": "markdown",
      "source": [],
      "metadata": {
        "id": "MkcHfO7GYGuj"
      }
    },
    {
      "cell_type": "code",
      "source": [
        "data_module = BrainTumorDataModule(\n",
        "    train_data = (train_imgs, train_labels),\n",
        "    val_data = (val_imgs, val_labels),\n",
        "    batch_size = 64,\n",
        "    img_size = (224, 224),\n",
        "    num_workers = 4\n",
        ")"
      ],
      "metadata": {
        "id": "A8jYC6UAYHax"
      },
      "execution_count": null,
      "outputs": []
    },
    {
      "cell_type": "markdown",
      "source": [],
      "metadata": {
        "id": "CDHAsBhBax7_"
      }
    },
    {
      "cell_type": "code",
      "source": [
        "model = DenseNetClassifierBinary(\n",
        "    learning_rate = 1e-3,\n",
        "    weight_decay = 1e-5\n",
        ")"
      ],
      "metadata": {
        "id": "Bvz6jX6rayQ_"
      },
      "execution_count": null,
      "outputs": []
    },
    {
      "cell_type": "markdown",
      "source": [],
      "metadata": {
        "id": "OTqoMZV1bI_s"
      }
    },
    {
      "cell_type": "code",
      "source": [
        "checkpoint_cb = \"\"\n",
        "\n",
        "os.makedir(checkpoint_cb, exist_ok=True)\n",
        "\n",
        "callbacks_v = get_callbacks(\n",
        "    monitor_v = 'val_loss',\n",
        "    mode_v = 'min',\n",
        "    patience_v = 3\n",
        ")"
      ],
      "metadata": {
        "id": "10jgvPqLbJlW"
      },
      "execution_count": null,
      "outputs": []
    },
    {
      "cell_type": "markdown",
      "source": [],
      "metadata": {
        "id": "uzyxQ_dVbw0r"
      }
    },
    {
      "cell_type": "code",
      "source": [
        "logger_v = TensorboardLogger(\n",
        "    save_dir='logs',\n",
        ")"
      ],
      "metadata": {
        "id": "pDqU0DJ0bxIz"
      },
      "execution_count": null,
      "outputs": []
    },
    {
      "cell_type": "markdown",
      "source": [],
      "metadata": {
        "id": "NySnkjJ4b9-n"
      }
    },
    {
      "cell_type": "code",
      "source": [
        "trainer = pl.trainer(\n",
        "    max_epochs = 100,\n",
        "    accelerator = 'auto',\n",
        "    callbacks = callbacks_v,\n",
        "    logger = logger_v,\n",
        "\n",
        ")"
      ],
      "metadata": {
        "id": "uMp4QdS2b-R9"
      },
      "execution_count": null,
      "outputs": []
    }
  ]
}