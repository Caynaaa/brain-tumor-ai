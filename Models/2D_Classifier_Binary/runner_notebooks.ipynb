{
 "cells": [
  {
   "cell_type": "markdown",
   "id": "8d033c87",
   "metadata": {},
   "source": []
  },
  {
   "cell_type": "code",
   "execution_count": null,
   "id": "c527212d",
   "metadata": {},
   "outputs": [],
   "source": [
    "!pip install pytorch-lightning tensorboard albumentations torchmetrics"
   ]
  },
  {
   "cell_type": "markdown",
   "id": "8d37e697",
   "metadata": {},
   "source": []
  },
  {
   "cell_type": "code",
   "execution_count": null,
   "id": "91503c47",
   "metadata": {},
   "outputs": [],
   "source": [
    "# Import necessary libraries\n",
    "import os\n",
    "import torch\n",
    "import pytorch_lightning as pl\n",
    "from pytorch_lightning import TensorBoardLogger\n",
    "\n",
    "# Import project modules\n",
    "from module import DenseNetClassifierBinary\n",
    "from datamodule import BrainTumorDataModule\n",
    "from callbacks import get_callbacks\n",
    "from helper import set_seed"
   ]
  },
  {
   "cell_type": "markdown",
   "id": "6cd1826f",
   "metadata": {},
   "source": []
  },
  {
   "cell_type": "code",
   "execution_count": null,
   "id": "b489209f",
   "metadata": {},
   "outputs": [],
   "source": []
  }
 ],
 "metadata": {
  "language_info": {
   "name": "python"
  }
 },
 "nbformat": 4,
 "nbformat_minor": 5
}
