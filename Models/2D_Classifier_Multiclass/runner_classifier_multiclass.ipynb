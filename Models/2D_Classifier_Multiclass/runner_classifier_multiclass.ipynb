{
  "cells": [
    {
      "cell_type": "markdown",
      "metadata": {
        "id": "xJ9bGeur_DmU"
      },
      "source": [
        "# Multiclass Brain Tumor Classifier — Runner Notebook\n",
        "\n",
        "> **Purpose:** This notebook serves as the execution script for the **Multiclass brain tumor classification model**.  \n",
        "> All core components (model architecture, data processing, training pipeline) are defined in separate Python modules to maintain a clean and modular project structure.\n",
        "\n",
        "\n",
        "## Overview\n",
        "\n",
        "This notebook is part of the **Brain Tumor AI** project, focusing on **multiclass classification** of medical images (notumor, pituitary, meningioma, glioma).  \n",
        "It is designed to:\n",
        "- Load and configure the modular components (model, data module, transforms, helpers, callbacks, loggers).\n",
        "- Execute the training process using **PyTorch Lightning**.\n",
        "- Save the trained model for inference.\n",
        "\n",
        "By separating logic into `.py` files, the project ensures:\n",
        "- **Reusability:** Components can be reused across multiple experiments.\n",
        "- **Maintainability:** Easier debugging and updates.\n",
        "- **Clarity:** The notebook focuses on workflow and results, not implementation details.\n",
        "\n",
        "\n",
        "> **Note:** This project is for learning and portfolio purposes only — not for clinical use.\n"
      ]
    },
    {
      "cell_type": "markdown",
      "metadata": {},
      "source": [
        "## 1. Install Dependencies & Import Libraries"
      ]
    },
    {
      "cell_type": "markdown",
      "metadata": {},
      "source": [
        "### 1.1 Install Dependencies\n",
        "Install the required packages to ensure the notebook runs without missing dependencies.\n",
        "\n",
        "- **`datasets`** — Dataset handling and loading utilities.  \n",
        "- **`fsspec`** — File system interface for remote/local storage.  \n",
        "- **`pytorch-lightning`** — High-level PyTorch framework for training.  \n",
        "- **`albumentations`** — Advanced image augmentation library.  \n",
        "- **`torchmetrics`** — Standardized metrics for PyTorch.\n",
        "\n",
        "> Skip this step if the environment already has these packages installed.\n"
      ]
    },
    {
      "cell_type": "code",
      "execution_count": null,
      "metadata": {
        "id": "bs3-olNV-ajm"
      },
      "outputs": [],
      "source": [
        "!pip install -q -U datasets fsspec pytorch-lightning albumentations torchmetrics"
      ]
    },
    {
      "cell_type": "markdown",
      "metadata": {
        "id": "lJIS-cI9_D60"
      },
      "source": [
        "### 1.2 Import Required Libraries\n",
        "\n",
        "Below are the required libraries and modules used in this notebook:\n",
        "\n",
        "- **os, sys** — For file and system path handling.\n",
        "- **torch** — PyTorch core library for deep learning operations.\n",
        "- **pytorch_lightning** — High-level wrapper for PyTorch to simplify training loops.\n",
        "- **scikit-learn (train_test_split, compute_class_weight)** — For dataset splitting and class weight computation.\n",
        "- **google.colab.drive** — To mount Google Drive and access stored datasets/models.\n",
        "- **datasets.load_dataset** — To load datasets in various formats from the Hugging Face Datasets library.\n"
      ]
    },
    {
      "cell_type": "code",
      "execution_count": null,
      "metadata": {
        "id": "tGwjndZ1_EOk"
      },
      "outputs": [],
      "source": [
        "import os\n",
        "import sys\n",
        "import torch\n",
        "import numpy as np\n",
        "import pytorch_lightning as pl\n",
        "\n",
        "from sklearn.model_selection import train_test_split\n",
        "from sklearn.utils.class_weight import compute_class_weight\n",
        "\n",
        "\n",
        "from google.colab import drive\n",
        "\n",
        "from datasets import load_dataset"
      ]
    },
    {
      "cell_type": "markdown",
      "metadata": {
        "id": "zLwGKEX__LMB"
      },
      "source": []
    },
    {
      "cell_type": "code",
      "execution_count": null,
      "metadata": {
        "id": "hZtRtFuV_Lh5"
      },
      "outputs": [],
      "source": [
        "drive.mount('/content/drive')"
      ]
    },
    {
      "cell_type": "markdown",
      "metadata": {
        "id": "mojph5AO_O9W"
      },
      "source": []
    },
    {
      "cell_type": "code",
      "execution_count": null,
      "metadata": {
        "id": "oQfCI_s0_POy"
      },
      "outputs": [],
      "source": [
        "CHECKPOINT_PATH = \"/content/drive/MyDrive/MyProject/brain-tumor-ai/Models/2D_Classifier_Multiclass/checkpoint\"\n",
        "\n",
        "PROJECT_PATH = \"/content/drive/MyDrive/MyProject/brain-tumor-ai/Models/2D_Classifier_Multiclass\"\n",
        "\n",
        "SAVE_PATH = \"/content/drive/MyDrive/MyProject/brain-tumor-ai/Models/2D_Classifier_Multiclass/save_models\""
      ]
    },
    {
      "cell_type": "markdown",
      "metadata": {
        "id": "U1u4sHNV_0iN"
      },
      "source": []
    },
    {
      "cell_type": "code",
      "execution_count": null,
      "metadata": {
        "id": "yEXtAzw2_1Nl"
      },
      "outputs": [],
      "source": [
        "if PROJECT_PATH not in sys.path:\n",
        "  sys.path.append(PROJECT_PATH)"
      ]
    },
    {
      "cell_type": "markdown",
      "metadata": {
        "id": "0scah2PA_95Y"
      },
      "source": []
    },
    {
      "cell_type": "code",
      "execution_count": null,
      "metadata": {
        "id": "160461o6_-M6"
      },
      "outputs": [],
      "source": [
        "from module import DenseNetClassifierMulticlass\n",
        "from datamodule import BrainTumorDataModule\n",
        "from callbacks import get_callbacks\n",
        "from logger import get_logger\n",
        "from utils import set_seed, hf_dataset_to_tuple"
      ]
    },
    {
      "cell_type": "markdown",
      "metadata": {
        "id": "CmaCz3tTADad"
      },
      "source": []
    },
    {
      "cell_type": "code",
      "execution_count": null,
      "metadata": {
        "id": "LuI9rKqCBWE_"
      },
      "outputs": [],
      "source": [
        "set_seed(42)"
      ]
    },
    {
      "cell_type": "markdown",
      "metadata": {
        "id": "kS5x-DQLBWYF"
      },
      "source": []
    },
    {
      "cell_type": "code",
      "execution_count": null,
      "metadata": {
        "id": "6N_3DW1GBptd"
      },
      "outputs": [],
      "source": [
        "ds = load_dataset(\"Cayanaaa/BrainTumorDatasets\", name=\"multiclass\")"
      ]
    },
    {
      "cell_type": "markdown",
      "metadata": {
        "id": "bijPo7WFB60A"
      },
      "source": []
    },
    {
      "cell_type": "code",
      "execution_count": null,
      "metadata": {
        "id": "UuZRV3fuB7Js"
      },
      "outputs": [],
      "source": [
        "print(ds['train'].features['label'].names)"
      ]
    },
    {
      "cell_type": "markdown",
      "metadata": {
        "id": "MaSHCVUoCIZI"
      },
      "source": []
    },
    {
      "cell_type": "code",
      "execution_count": null,
      "metadata": {
        "id": "zlHYTBdyCIr2"
      },
      "outputs": [],
      "source": [
        "train_data = ds['train']"
      ]
    },
    {
      "cell_type": "markdown",
      "metadata": {
        "id": "Nhvv7DW6C4mv"
      },
      "source": []
    },
    {
      "cell_type": "code",
      "execution_count": null,
      "metadata": {
        "id": "Aysi9Pw8C44U"
      },
      "outputs": [],
      "source": [
        "images, labels = hf_dataset_to_tuple(train_data, image_key='image', label_key='label')"
      ]
    },
    {
      "cell_type": "markdown",
      "metadata": {
        "id": "wL5RXo5pDHRZ"
      },
      "source": []
    },
    {
      "cell_type": "code",
      "execution_count": null,
      "metadata": {
        "id": "QR-zOOQWDHiU"
      },
      "outputs": [],
      "source": [
        "train_imgs, val_imgs, train_labels, val_labels = train_test_split(\n",
        "    images, labels,\n",
        "    test_size = 0.2,\n",
        "    random_state = 42,\n",
        "    stratify = labels\n",
        ")"
      ]
    },
    {
      "cell_type": "markdown",
      "metadata": {
        "id": "8tR6blK0Db5f"
      },
      "source": []
    },
    {
      "cell_type": "code",
      "execution_count": null,
      "metadata": {
        "id": "3gqH_9XaDcUc"
      },
      "outputs": [],
      "source": [
        "data_module = BrainTumorDataModule(\n",
        "    train_data = (train_imgs, train_labels),\n",
        "    val_data = (val_imgs, val_labels),\n",
        "    batch_size = 64,\n",
        "    num_worker = 4\n",
        ")"
      ]
    },
    {
      "cell_type": "markdown",
      "metadata": {
        "id": "L8aCoUKXD67s"
      },
      "source": []
    },
    {
      "cell_type": "code",
      "execution_count": null,
      "metadata": {
        "id": "BhLCmZ52D7NY"
      },
      "outputs": [],
      "source": [
        "model_warmup = DenseNetClassifierMulticlass(\n",
        "    learning_rate = 1e-3,\n",
        "    weight_decay = 1e-5,\n",
        "    unfreeze_layers = None\n",
        ")"
      ]
    },
    {
      "cell_type": "markdown",
      "metadata": {
        "id": "_9VZRA_XEP0O"
      },
      "source": []
    },
    {
      "cell_type": "code",
      "execution_count": null,
      "metadata": {
        "id": "_K5woY5aEQD4"
      },
      "outputs": [],
      "source": [
        "callbacks_warmup = get_callbacks(\n",
        "    dirpath = CHECKPOINT_PATH,\n",
        "    monitor = 'val_loss',\n",
        "    mode = 'min',\n",
        "    patience = 3\n",
        ")"
      ]
    },
    {
      "cell_type": "markdown",
      "metadata": {
        "id": "UnSQfAd8Ep2F"
      },
      "source": []
    },
    {
      "cell_type": "code",
      "execution_count": null,
      "metadata": {
        "id": "euwT4jCKEqIb"
      },
      "outputs": [],
      "source": [
        "logger_warmup = get_logger(\n",
        "    log_dir = PROJECT_PATH/logs,\n",
        "    name = \"best_warmup_model_checkpoint\"\n",
        ")"
      ]
    },
    {
      "cell_type": "markdown",
      "metadata": {
        "id": "FaicLTkNFWyi"
      },
      "source": []
    },
    {
      "cell_type": "code",
      "execution_count": null,
      "metadata": {
        "id": "KqQNPtn4FXEb"
      },
      "outputs": [],
      "source": [
        "trainer_warmup = pl.Trainer(\n",
        "    max_epochs = 200,\n",
        "    accelerator = 'gpu',\n",
        "    precision = '16-mixed',\n",
        "    callbacks = callbacks_warmup,\n",
        "    logger = logger_warmup,\n",
        "    log_every_n_step = 10,\n",
        "    device = 1\n",
        ")"
      ]
    },
    {
      "cell_type": "code",
      "execution_count": null,
      "metadata": {
        "id": "p-3A1HnwF0K5"
      },
      "outputs": [],
      "source": [
        "trainer_warmup.fit(model_warmup, datamodule = data_module)"
      ]
    },
    {
      "cell_type": "markdown",
      "metadata": {
        "id": "Xkli4_k2F9Sz"
      },
      "source": []
    },
    {
      "cell_type": "code",
      "execution_count": null,
      "metadata": {
        "id": "gxJYokhhF9jF"
      },
      "outputs": [],
      "source": [
        "model_finetune = DenseNetClassifierMulticlass(\n",
        "    learning_rate = 1e-5,\n",
        "    weight_decay = 1e-6,\n",
        "    unfreeze_layers = [\"features.denseblock4\", \"features.norm5\"]\n",
        ")"
      ]
    },
    {
      "cell_type": "markdown",
      "metadata": {
        "id": "A2SQK3V2GRqN"
      },
      "source": []
    },
    {
      "cell_type": "code",
      "execution_count": null,
      "metadata": {
        "id": "1wskZwRsGSBh"
      },
      "outputs": [],
      "source": [
        "callbacks_finetune = get_callbacks(\n",
        "    dirpath = CHECKPOINT_PATH,\n",
        "    monitor = 'val_loss',\n",
        "    mode = 'min',\n",
        "    patience = 3\n",
        ")"
      ]
    },
    {
      "cell_type": "markdown",
      "metadata": {
        "id": "cK1oS63XGaEv"
      },
      "source": []
    },
    {
      "cell_type": "code",
      "execution_count": null,
      "metadata": {
        "id": "T92aZn0BGabX"
      },
      "outputs": [],
      "source": [
        "logger_finetune = get_logger(\n",
        "    log_dir = PROJECT_PATH/logs,\n",
        "    name = \"best_finetune_model_checkpoint\"\n",
        ")"
      ]
    },
    {
      "cell_type": "markdown",
      "metadata": {
        "id": "oVRNvWHsGfQO"
      },
      "source": []
    },
    {
      "cell_type": "code",
      "execution_count": null,
      "metadata": {
        "id": "tvHQbiSwGfjV"
      },
      "outputs": [],
      "source": [
        "trainer_finetune = pl.Trainer(\n",
        "    max_epochs = 200,\n",
        "    accelerator = 'gpu',\n",
        "    precision = '16-mixed',\n",
        "    callbacks = callbacks_finetune,\n",
        "    logger = logger_finetune,\n",
        "    log_every_n_step = 10,\n",
        "    device = 1\n",
        ")"
      ]
    },
    {
      "cell_type": "markdown",
      "metadata": {
        "id": "4_0q50E4Gm4L"
      },
      "source": []
    },
    {
      "cell_type": "code",
      "execution_count": null,
      "metadata": {
        "id": "pTVKUazgGnO6"
      },
      "outputs": [],
      "source": [
        "trainer_finetune(model_finetune, datamodule=data_module)"
      ]
    },
    {
      "cell_type": "markdown",
      "metadata": {
        "id": "BQ41Gn-iGtiM"
      },
      "source": []
    },
    {
      "cell_type": "code",
      "execution_count": null,
      "metadata": {
        "id": "bT2t9gqGIHK8"
      },
      "outputs": [],
      "source": [
        "print(callbacks_finetune[0].best_model_path)"
      ]
    },
    {
      "cell_type": "code",
      "execution_count": null,
      "metadata": {
        "id": "1U8V1KTTGt0T"
      },
      "outputs": [],
      "source": [
        "best_checkpoint_model_path = callbacks_finetune[0].best_model_path"
      ]
    },
    {
      "cell_type": "markdown",
      "metadata": {
        "id": "ozG__aIIG6Rw"
      },
      "source": []
    },
    {
      "cell_type": "code",
      "execution_count": null,
      "metadata": {
        "id": "uPyQqlkQG6g1"
      },
      "outputs": [],
      "source": [
        "best_model = DenseNetClassifierMulticlass.load_from_checkpoint(best_checkpoint_model_path)"
      ]
    },
    {
      "cell_type": "markdown",
      "metadata": {
        "id": "-OgBTx0LHGvJ"
      },
      "source": []
    },
    {
      "cell_type": "code",
      "execution_count": null,
      "metadata": {
        "id": "6lu28PyHHFt9"
      },
      "outputs": [],
      "source": [
        "torch.save(best_model.state_dict(), f\"{PROJECT_PATH}/best_ft_braTS_multiclass.pth\")"
      ]
    },
    {
      "cell_type": "markdown",
      "metadata": {
        "id": "b9dkYURhHGsK"
      },
      "source": []
    }
  ],
  "metadata": {
    "colab": {
      "provenance": []
    },
    "kernelspec": {
      "display_name": "Python 3",
      "name": "python3"
    },
    "language_info": {
      "name": "python"
    }
  },
  "nbformat": 4,
  "nbformat_minor": 0
}
