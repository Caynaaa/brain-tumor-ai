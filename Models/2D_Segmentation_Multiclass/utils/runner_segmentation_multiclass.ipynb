{
 "cells": [
  {
   "cell_type": "code",
   "execution_count": null,
   "id": "ecf526e8",
   "metadata": {},
   "outputs": [],
   "source": [
    "!pip install segmentation-models-pytorch monai pytorch-lightning"
   ]
  },
  {
   "cell_type": "code",
   "execution_count": null,
   "id": "f3a5dbe8",
   "metadata": {},
   "outputs": [],
   "source": [
    "import sys\n",
    "import os\n",
    "import glob \n",
    "import pytorch_lightning as pl\n",
    "import torch\n",
    "import torch.optim as optim\n",
    "from torch.optim.lr_scheduler import ReduceLROnPlateau\n",
    "import segmentation_models_pytorch as smp\n",
    "from sklearn.model_selection import train_test_split\n",
    "from google.colab import drive"
   ]
  },
  {
   "cell_type": "code",
   "execution_count": null,
   "id": "6f9317dd",
   "metadata": {},
   "outputs": [],
   "source": [
    "drive.mount(\"/content/drive\")"
   ]
  },
  {
   "cell_type": "code",
   "execution_count": null,
   "id": "0e3b5412",
   "metadata": {},
   "outputs": [],
   "source": [
    "CHECKPOINT_PATH = \"\"\n",
    "PROJECT_PATH = \"\"\n",
    "SAVE_PATH = \"\"\n",
    "LOG_PATH = \"\"\n",
    "\n",
    "TRAIN_INDEX_PATH = \"\"\n",
    "VAL_INDEX_PATH = \"\""
   ]
  },
  {
   "cell_type": "code",
   "execution_count": null,
   "id": "da714640",
   "metadata": {},
   "outputs": [],
   "source": [
    "if PROJECT_PATH not in sys.path:\n",
    "    sys.path.append(PROJECT_PATH)"
   ]
  },
  {
   "cell_type": "code",
   "execution_count": null,
   "id": "3abb8877",
   "metadata": {},
   "outputs": [],
   "source": [
    "from module import SegmentationModule\n",
    "from datamodule import DataModule\n",
    "from callbacks import get_callbacks\n",
    "from logger import get_logger\n",
    "from utils import compute_class_weight_and_get_mask, set_seed, ComboLoss"
   ]
  },
  {
   "cell_type": "code",
   "execution_count": null,
   "id": "2e4426c1",
   "metadata": {},
   "outputs": [],
   "source": [
    "set_seed(42)"
   ]
  },
  {
   "cell_type": "code",
   "execution_count": null,
   "id": "e219a260",
   "metadata": {},
   "outputs": [],
   "source": [
    "ds_path = \"/content/drive/MyDrive/\""
   ]
  },
  {
   "cell_type": "code",
   "execution_count": null,
   "id": "20e8ae8b",
   "metadata": {},
   "outputs": [],
   "source": [
    "all_files = glob.glob(os.path.join(ds_path, \"**\", \"*.h5\"), recursive=True)"
   ]
  },
  {
   "cell_type": "code",
   "execution_count": null,
   "id": "b8833790",
   "metadata": {},
   "outputs": [],
   "source": [
    "train_path, val_path = train_test_split(all_files, test_size=0.2, random_state=42)"
   ]
  },
  {
   "cell_type": "code",
   "execution_count": null,
   "id": "37082a30",
   "metadata": {},
   "outputs": [],
   "source": [
    "data_module = DataModule(\n",
    "    train_data = train_path,\n",
    "    val_data = val_path,\n",
    "    batch_size = 64,\n",
    "    num_workers = 2,\n",
    "    index_train_path = TRAIN_INDEX_PATH,\n",
    "    index_val_path = VAL_INDEX_PATH\n",
    ")"
   ]
  },
  {
   "cell_type": "code",
   "execution_count": null,
   "id": "b7de7c64",
   "metadata": {},
   "outputs": [],
   "source": [
    "backbone = smp.Unet(\n",
    "    encoder_name=\"efficientnet-b2\",\n",
    "    encoder_weights=\"imagenet\",\n",
    "    in_channels=3,\n",
    "    classes=4\n",
    ")"
   ]
  },
  {
   "cell_type": "code",
   "execution_count": null,
   "id": "16469d01",
   "metadata": {},
   "outputs": [],
   "source": [
    "for p in backbone.encoder.parameters():\n",
    "    p.requires_grad = False"
   ]
  },
  {
   "cell_type": "code",
   "execution_count": null,
   "id": "8ccceaab",
   "metadata": {},
   "outputs": [],
   "source": [
    "remap = {0:0, 50:1, 100:2, 150:3}\n",
    "\n",
    "class_weight = compute_class_weight_and_get_mask(file_path=train_path, remap=remap, save_path=TRAIN_INDEX_PATH)\n",
    "\n",
    "criterion = ComboLoss(num_classes=4, ce_weight=class_weight)"
   ]
  },
  {
   "cell_type": "code",
   "execution_count": null,
   "id": "1f7ef73b",
   "metadata": {},
   "outputs": [],
   "source": [
    "model = SegmentationModule(backbone=backbone, num_classes=4)\n",
    "\n",
    "model.set_criterion(criterion)\n",
    "\n",
    "optimizer = optim.AdamW(filter(lambda p: p.requires_grad, backbone.parameters()), lr=1e-3, weight_decay=1e-5)\n",
    "scheduler = ReduceLROnPlateau(optimizer, mode='min', factor=0.2, patience=2)\n",
    "\n",
    "current_lr = optimizer.param_groups[0]['lr']\n",
    "print(f\"Active lr: {current_lr}\")\n",
    "\n",
    "model.set_optimizer(optimizer, scheduler)"
   ]
  },
  {
   "cell_type": "code",
   "execution_count": null,
   "id": "b4d02cc6",
   "metadata": {},
   "outputs": [],
   "source": [
    "callbacks = get_callbacks(\n",
    "    dirpath = CHECKPOINT_PATH,\n",
    "    filename =  \"best-warmup-{epoch:02d}-{val_loss:.2f}\"\n",
    ")\n",
    "\n",
    "logger = get_logger(\n",
    "    log_dir = LOG_PATH\n",
    "    name = \"segmentation_multiclass_warmup\"\n",
    ")"
   ]
  },
  {
   "cell_type": "code",
   "execution_count": null,
   "id": "6f0f947a",
   "metadata": {},
   "outputs": [],
   "source": [
    "trainer = pl.Trainer(\n",
    "    max_epochs = 100\n",
    "    accelerator = \"gpu\",\n",
    "    precission = \"16-mixed\",\n",
    "    callbacks = callbacks\n",
    "    logger = logger,\n",
    "    log_every_n_step = 10,\n",
    "    devices = 1 \n",
    ")"
   ]
  },
  {
   "cell_type": "code",
   "execution_count": null,
   "id": "e5745a54",
   "metadata": {},
   "outputs": [],
   "source": [
    "trainer.fit(model, data_module)"
   ]
  }
 ],
 "metadata": {
  "language_info": {
   "name": "python"
  }
 },
 "nbformat": 4,
 "nbformat_minor": 5
}
