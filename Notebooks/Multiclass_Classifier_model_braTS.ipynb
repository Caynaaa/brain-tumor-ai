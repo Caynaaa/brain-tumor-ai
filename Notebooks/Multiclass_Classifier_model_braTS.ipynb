{
 "cells": [
  {
   "cell_type": "markdown",
   "metadata": {
    "id": "0M7D4cvWYgdq"
   },
   "source": [
    "# Brain Tumor Multiclass Classifier (2D MRI)\n",
    "\n",
    "This notebook presents a deep learning pipeline for classifying 2D brain MRI scans into four tumor categories: **Glioma**, **Meningioma**, **Pituitary**, and **No Tumor**.\n",
    "\n",
    "The model is built using **PyTorch** and leverages a pre-trained **DenseNet121** backbone with a custom classifier head. Training is performed in two phases: a warm-up stage where only the head is trained, followed by fine-tuning of selected high-level convolutional blocks.\n",
    "\n",
    "The dataset used was originally published on [Kaggle](#) and is re-hosted on the **Hugging Face Hub** to simplify access and integration.\n",
    "\n",
    "This project is part of a personal initiative to explore medical imaging with computer vision, with emphasis on **transfer learning**, **training strategy**, and **model generalization**.\n",
    "\n",
    "> **Disclaimer:** This project is for **educational and research purposes only**. It is *not* intended for medical or clinical use.\n"
   ]
  },
  {
   "cell_type": "markdown",
   "metadata": {
    "id": "kAucEmcB-hBj"
   },
   "source": [
    "## 1. Setup & Dependencies\n",
    "\n",
    "This section installs and imports the required libraries for data handling, model development, training, and evaluation.\n"
   ]
  },
  {
   "cell_type": "markdown",
   "metadata": {
    "id": "gCguIW3vcX0B"
   },
   "source": [
    "### 1.1 Install Dependencies (Colab Only)\n",
    "\n",
    "If you're using Google Colab, install the required packages using the command below.\n"
   ]
  },
  {
   "cell_type": "code",
   "execution_count": null,
   "metadata": {
    "colab": {
     "base_uri": "https://localhost:8080/"
    },
    "collapsed": true,
    "executionInfo": {
     "elapsed": 9251,
     "status": "ok",
     "timestamp": 1751038008466,
     "user": {
      "displayName": "M lutfi H Azzam",
      "userId": "10455614359958764409"
     },
     "user_tz": -420
    },
    "id": "SFm6wtpN_UJ1",
    "outputId": "fbd46c5f-6fb2-483b-b7cc-a17744ad1db7"
   },
   "outputs": [
    {
     "name": "stdout",
     "output_type": "stream",
     "text": [
      "Requirement already satisfied: datasets in /usr/local/lib/python3.11/dist-packages (3.6.0)\n",
      "Requirement already satisfied: fsspec in /usr/local/lib/python3.11/dist-packages (2025.3.0)\n",
      "Collecting fsspec\n",
      "  Using cached fsspec-2025.5.1-py3-none-any.whl.metadata (11 kB)\n",
      "Requirement already satisfied: filelock in /usr/local/lib/python3.11/dist-packages (from datasets) (3.18.0)\n",
      "Requirement already satisfied: numpy>=1.17 in /usr/local/lib/python3.11/dist-packages (from datasets) (2.0.2)\n",
      "Requirement already satisfied: pyarrow>=15.0.0 in /usr/local/lib/python3.11/dist-packages (from datasets) (18.1.0)\n",
      "Requirement already satisfied: dill<0.3.9,>=0.3.0 in /usr/local/lib/python3.11/dist-packages (from datasets) (0.3.7)\n",
      "Requirement already satisfied: pandas in /usr/local/lib/python3.11/dist-packages (from datasets) (2.2.2)\n",
      "Requirement already satisfied: requests>=2.32.2 in /usr/local/lib/python3.11/dist-packages (from datasets) (2.32.3)\n",
      "Requirement already satisfied: tqdm>=4.66.3 in /usr/local/lib/python3.11/dist-packages (from datasets) (4.67.1)\n",
      "Requirement already satisfied: xxhash in /usr/local/lib/python3.11/dist-packages (from datasets) (3.5.0)\n",
      "Requirement already satisfied: multiprocess<0.70.17 in /usr/local/lib/python3.11/dist-packages (from datasets) (0.70.15)\n",
      "Requirement already satisfied: huggingface-hub>=0.24.0 in /usr/local/lib/python3.11/dist-packages (from datasets) (0.33.0)\n",
      "Requirement already satisfied: packaging in /usr/local/lib/python3.11/dist-packages (from datasets) (24.2)\n",
      "Requirement already satisfied: pyyaml>=5.1 in /usr/local/lib/python3.11/dist-packages (from datasets) (6.0.2)\n",
      "Requirement already satisfied: aiohttp!=4.0.0a0,!=4.0.0a1 in /usr/local/lib/python3.11/dist-packages (from fsspec[http]<=2025.3.0,>=2023.1.0->datasets) (3.11.15)\n",
      "Requirement already satisfied: typing-extensions>=3.7.4.3 in /usr/local/lib/python3.11/dist-packages (from huggingface-hub>=0.24.0->datasets) (4.14.0)\n",
      "Requirement already satisfied: hf-xet<2.0.0,>=1.1.2 in /usr/local/lib/python3.11/dist-packages (from huggingface-hub>=0.24.0->datasets) (1.1.5)\n",
      "Requirement already satisfied: charset-normalizer<4,>=2 in /usr/local/lib/python3.11/dist-packages (from requests>=2.32.2->datasets) (3.4.2)\n",
      "Requirement already satisfied: idna<4,>=2.5 in /usr/local/lib/python3.11/dist-packages (from requests>=2.32.2->datasets) (3.10)\n",
      "Requirement already satisfied: urllib3<3,>=1.21.1 in /usr/local/lib/python3.11/dist-packages (from requests>=2.32.2->datasets) (2.4.0)\n",
      "Requirement already satisfied: certifi>=2017.4.17 in /usr/local/lib/python3.11/dist-packages (from requests>=2.32.2->datasets) (2025.6.15)\n",
      "Requirement already satisfied: python-dateutil>=2.8.2 in /usr/local/lib/python3.11/dist-packages (from pandas->datasets) (2.9.0.post0)\n",
      "Requirement already satisfied: pytz>=2020.1 in /usr/local/lib/python3.11/dist-packages (from pandas->datasets) (2025.2)\n",
      "Requirement already satisfied: tzdata>=2022.7 in /usr/local/lib/python3.11/dist-packages (from pandas->datasets) (2025.2)\n",
      "Requirement already satisfied: aiohappyeyeballs>=2.3.0 in /usr/local/lib/python3.11/dist-packages (from aiohttp!=4.0.0a0,!=4.0.0a1->fsspec[http]<=2025.3.0,>=2023.1.0->datasets) (2.6.1)\n",
      "Requirement already satisfied: aiosignal>=1.1.2 in /usr/local/lib/python3.11/dist-packages (from aiohttp!=4.0.0a0,!=4.0.0a1->fsspec[http]<=2025.3.0,>=2023.1.0->datasets) (1.3.2)\n",
      "Requirement already satisfied: attrs>=17.3.0 in /usr/local/lib/python3.11/dist-packages (from aiohttp!=4.0.0a0,!=4.0.0a1->fsspec[http]<=2025.3.0,>=2023.1.0->datasets) (25.3.0)\n",
      "Requirement already satisfied: frozenlist>=1.1.1 in /usr/local/lib/python3.11/dist-packages (from aiohttp!=4.0.0a0,!=4.0.0a1->fsspec[http]<=2025.3.0,>=2023.1.0->datasets) (1.7.0)\n",
      "Requirement already satisfied: multidict<7.0,>=4.5 in /usr/local/lib/python3.11/dist-packages (from aiohttp!=4.0.0a0,!=4.0.0a1->fsspec[http]<=2025.3.0,>=2023.1.0->datasets) (6.5.0)\n",
      "Requirement already satisfied: propcache>=0.2.0 in /usr/local/lib/python3.11/dist-packages (from aiohttp!=4.0.0a0,!=4.0.0a1->fsspec[http]<=2025.3.0,>=2023.1.0->datasets) (0.3.2)\n",
      "Requirement already satisfied: yarl<2.0,>=1.17.0 in /usr/local/lib/python3.11/dist-packages (from aiohttp!=4.0.0a0,!=4.0.0a1->fsspec[http]<=2025.3.0,>=2023.1.0->datasets) (1.20.1)\n",
      "Requirement already satisfied: six>=1.5 in /usr/local/lib/python3.11/dist-packages (from python-dateutil>=2.8.2->pandas->datasets) (1.17.0)\n"
     ]
    }
   ],
   "source": [
    "# Install Hugging Face datasets library (for Colab users)\n",
    "!pip install -U datasets fsspec"
   ]
  },
  {
   "cell_type": "markdown",
   "metadata": {
    "id": "thNIGADudoyT"
   },
   "source": [
    "### 1.2 Import Libraries\n",
    "\n",
    "We import all necessary libraries including PyTorch, Albumentations, scikit-learn, and Hugging Face datasets.\n"
   ]
  },
  {
   "cell_type": "code",
   "execution_count": null,
   "metadata": {
    "id": "AE_EJl0P-rLi"
   },
   "outputs": [],
   "source": [
    "# PyTorch core modules\n",
    "import torch\n",
    "import torch.nn as nn\n",
    "import torch.optim as optim\n",
    "from torch.optim.lr_scheduler import ReduceLROnPlateau\n",
    "from torch.utils.data import DataLoader, Dataset\n",
    "\n",
    "# Torchvision for model architectures and data utilities\n",
    "import torchvision.models as models\n",
    "from torchvision import datasets\n",
    "\n",
    "# Albumentations for data augmentation\n",
    "import albumentations as A\n",
    "from albumentations.pytorch import ToTensorV2\n",
    "\n",
    "# Scikit-learn \n",
    "from sklearn.model_selection import train_test_split\n",
    "from sklearn.utils.class_weight import compute_class_weight\n",
    "\n",
    "# Standard libraries\n",
    "import numpy as np\n",
    "from PIL import Image\n",
    "import cv2\n",
    "from tqdm import tqdm\n",
    "import copy\n",
    "\n",
    "# Hugging Face datasets\n",
    "from datasets import load_dataset"
   ]
  },
  {
   "cell_type": "markdown",
   "metadata": {
    "id": "FCqmGOXU_XNX"
   },
   "source": [
    "## 2. Load and Prepare Raw Dataset\n",
    "\n",
    "We load a multiclass brain MRI dataset from the Hugging Face Hub using the `load_dataset` function. This dataset contains four tumor categories and was originally sourced from Kaggle. It is automatically cached for reuse.\n",
    "\n",
    "The loaded data will be split into training and validation sets using a **stratified sampling** strategy to ensure balanced class representation.\n"
   ]
  },
  {
   "cell_type": "markdown",
   "metadata": {
    "id": "YICKK1FXg5Pi"
   },
   "source": [
    "### 2.1 Load Dataset from Hugging Face\n",
    "\n",
    "We load the dataset directly using the `datasets` library. The dataset contains labeled 2D brain MRI scans across four classes: **glioma**, **meningioma**, **pituitary**, and **no tumor**.\n"
   ]
  },
  {
   "cell_type": "code",
   "execution_count": null,
   "metadata": {
    "colab": {
     "base_uri": "https://localhost:8080/",
     "height": 483,
     "referenced_widgets": [
      "5bca0a0f1dd84b45801ef52834330b7e",
      "9b82995379b44bd7866e4d708044edee",
      "c8191815e7f34c63afbb49d7557fcbd7",
      "7c4c443276de4418847d6215906c30ad",
      "d459ab31e18c47c89a874329247ed823",
      "6a1b608646e54f04a88007bbf1b82f26",
      "118790a28d30417b84df0501c6e19130",
      "c1570630315646b5814373193c7b73b3",
      "10bd085faa8d4d359259cfa331d4a86c",
      "3b738faeee164e7f8d5f366fbfc0d39d",
      "87ffbb5a2c9d47c3b054a2cc4190def4",
      "b1c49a9299eb453a98acb0cd2e0712f1",
      "f492f1354c8848189601c027f8ad162f",
      "d47ca4a6120340ef99ad591b85f6e6a8",
      "ff5983eaf03e4fee93b48073d84b77e4",
      "702d271442ef4832a334c726e8c0a35b",
      "edad9c4b4503415a85f64551cfe40438",
      "ed168d751aad47ff8e2243448c7f89a2",
      "c47cd9586e9140149c5cc7316cde85d9",
      "203ffcb5c21240dcbdc32fc40c605cbf",
      "5bfef388076d47518d2d6f17fefd1d05",
      "84731dba966e4556b31ac32dcd69480e",
      "e959b3721d354ebd82931e3e9bd2b35e",
      "3c97320120f840d5aa6d9344bef0b2c8",
      "a50fab9bcb46460c9a0817b9999692c3",
      "7361bf6a8d6240f08804bca2a2658eb7",
      "357267ebbc724bb7aedd50a3afba76d1",
      "9e62d333d2e44590a99114302d9edea2",
      "999fccd1aaf7435491737ab184bb297d",
      "6e86b7aae1d342828a39fdd63756cf98",
      "0872c8c7747a40c9b22553b4973c66a7",
      "81691bbd97a84a14a72e0430c1430efd",
      "9b810016ba274cd6ad70c94ade55b87f",
      "6235cb6a74d042db83d4f67937b5a2fb",
      "4c8bac3455714be892ef4df86d2fe04f",
      "8ab4d94c67eb4f75b24d61c3326ba95a",
      "be3a2fe8e7e241b889ade12ebba02544",
      "56d5506d0aa445a08b453c8f72636354",
      "2744a22fe8394e9993e0323748729800",
      "96cf7ebe7d32402bae30143f5f326ed4",
      "0543822d1fed4ceba70c3b7e074a84be",
      "b3d41f21ca61471daeac6aaf9666d225",
      "78ccca2c3e5641149f2c9ad80e7cbc6b",
      "32e9dfa142b44dc69b9809012652c617",
      "46cb7a0ab3584de58b106f3b3f95d1e1",
      "519f4a99d9e046628bd28270d191fa75",
      "f048350fa6e04ca58d76f4b14b700198",
      "e50451c2ee7a44a5b504318b76682a4a",
      "c7771c36bfbe46a49f5fae38ae1bc9ae",
      "3d6bdff487a14dd892ebcfbba3d573b6",
      "a4b54d9c3b57447c9ee821c675ba12c6",
      "7528de23f652458f8a78b2fa3fa417a1",
      "7e71c836f9084a7fac55f20ec861285d",
      "3edce68979ea468788626b2c67f0773f",
      "655e09c4d0c3418fb8d6bb3a1b7704f8"
     ]
    },
    "executionInfo": {
     "elapsed": 11555,
     "status": "ok",
     "timestamp": 1751038192982,
     "user": {
      "displayName": "M lutfi H Azzam",
      "userId": "10455614359958764409"
     },
     "user_tz": -420
    },
    "id": "wwI6MhkZAYer",
    "outputId": "e32e9253-1c03-47f4-c729-c280db701d14"
   },
   "outputs": [
    {
     "name": "stderr",
     "output_type": "stream",
     "text": [
      "/usr/local/lib/python3.11/dist-packages/huggingface_hub/utils/_auth.py:94: UserWarning: \n",
      "The secret `HF_TOKEN` does not exist in your Colab secrets.\n",
      "To authenticate with the Hugging Face Hub, create a token in your settings tab (https://huggingface.co/settings/tokens), set it as secret in your Google Colab and restart your session.\n",
      "You will be able to reuse this secret in all of your notebooks.\n",
      "Please note that authentication is recommended but still optional to access public models or datasets.\n",
      "  warnings.warn(\n"
     ]
    },
    {
     "data": {
      "application/vnd.jupyter.widget-view+json": {
       "model_id": "5bca0a0f1dd84b45801ef52834330b7e",
       "version_major": 2,
       "version_minor": 0
      },
      "text/plain": [
       "README.md: 0.00B [00:00, ?B/s]"
      ]
     },
     "metadata": {},
     "output_type": "display_data"
    },
    {
     "data": {
      "application/vnd.jupyter.widget-view+json": {
       "model_id": "b1c49a9299eb453a98acb0cd2e0712f1",
       "version_major": 2,
       "version_minor": 0
      },
      "text/plain": [
       "multiclass/train-00000-of-00001.parquet:   0%|          | 0.00/130M [00:00<?, ?B/s]"
      ]
     },
     "metadata": {},
     "output_type": "display_data"
    },
    {
     "data": {
      "application/vnd.jupyter.widget-view+json": {
       "model_id": "e959b3721d354ebd82931e3e9bd2b35e",
       "version_major": 2,
       "version_minor": 0
      },
      "text/plain": [
       "multiclass/test-00000-of-00001.parquet:   0%|          | 0.00/25.6M [00:00<?, ?B/s]"
      ]
     },
     "metadata": {},
     "output_type": "display_data"
    },
    {
     "data": {
      "application/vnd.jupyter.widget-view+json": {
       "model_id": "6235cb6a74d042db83d4f67937b5a2fb",
       "version_major": 2,
       "version_minor": 0
      },
      "text/plain": [
       "Generating train split:   0%|          | 0/5712 [00:00<?, ? examples/s]"
      ]
     },
     "metadata": {},
     "output_type": "display_data"
    },
    {
     "data": {
      "application/vnd.jupyter.widget-view+json": {
       "model_id": "46cb7a0ab3584de58b106f3b3f95d1e1",
       "version_major": 2,
       "version_minor": 0
      },
      "text/plain": [
       "Generating test split:   0%|          | 0/1311 [00:00<?, ? examples/s]"
      ]
     },
     "metadata": {},
     "output_type": "display_data"
    },
    {
     "data": {
      "text/plain": [
       "DatasetDict({\n",
       "    train: Dataset({\n",
       "        features: ['image', 'label'],\n",
       "        num_rows: 5712\n",
       "    })\n",
       "    test: Dataset({\n",
       "        features: ['image', 'label'],\n",
       "        num_rows: 1311\n",
       "    })\n",
       "})"
      ]
     },
     "execution_count": 3,
     "metadata": {},
     "output_type": "execute_result"
    }
   ],
   "source": [
    "# Load brain tumor dataset from Hugging Face (auto-cached locally)\n",
    "ds = load_dataset(\"Cayanaaa/BrainTumorDatasets\", name=\"multiclass\")\n",
    "ds"
   ]
  },
  {
   "cell_type": "markdown",
   "metadata": {
    "id": "mTkvCE1rhHqB"
   },
   "source": [
    "### 2.2 View Class Label Mapping\n",
    "\n",
    "This command reveals the label names and their corresponding integer encodings used internally by the dataset.\n"
   ]
  },
  {
   "cell_type": "code",
   "execution_count": null,
   "metadata": {
    "colab": {
     "base_uri": "https://localhost:8080/"
    },
    "executionInfo": {
     "elapsed": 6,
     "status": "ok",
     "timestamp": 1751038348736,
     "user": {
      "displayName": "M lutfi H Azzam",
      "userId": "10455614359958764409"
     },
     "user_tz": -420
    },
    "id": "DpP7a_gVAj7E",
    "outputId": "52bb5b83-3ed1-4f32-99cf-fe1343d3f312"
   },
   "outputs": [
    {
     "name": "stdout",
     "output_type": "stream",
     "text": [
      "['glioma', 'meningioma', 'notumor', 'pituitary']\n"
     ]
    }
   ],
   "source": [
    "# Display class labels and their corresponding integer indices\n",
    "print(ds['train'].features['label'].names)"
   ]
  },
  {
   "cell_type": "markdown",
   "metadata": {
    "id": "O08teEpGheUR"
   },
   "source": [
    "### 2.3 Extract Images and Labels from Dataset\n",
    "\n",
    "We extract the raw image and label pairs from the dataset for further processing.\n"
   ]
  },
  {
   "cell_type": "code",
   "execution_count": null,
   "metadata": {
    "id": "hlTyAt-oAv72"
   },
   "outputs": [],
   "source": [
    "# Extract image-label pairs from the training split\n",
    "train_data = ds['train']\n",
    "images = train_data['image']\n",
    "labels = train_data['label']"
   ]
  },
  {
   "cell_type": "markdown",
   "metadata": {
    "id": "dM93C5nEhkqO"
   },
   "source": [
    "### 2.4 Stratified Train-Validation Split\n",
    "\n",
    "To ensure balanced class distribution across the training and validation sets, we perform a stratified split. This minimizes the risk of class imbalance during model training.\n"
   ]
  },
  {
   "cell_type": "code",
   "execution_count": null,
   "metadata": {
    "id": "VbqnEKFKB2sj"
   },
   "outputs": [],
   "source": [
    "# Split data into training and validation sets while preserving class distribution\n",
    "train_imgs, val_imgs, train_labels, val_labels = train_test_split(images, labels,\n",
    "                                                                  test_size=0.2,\n",
    "                                                                  stratify=labels,\n",
    "                                                                  random_state=42\n",
    "                                                                  )"
   ]
  },
  {
   "cell_type": "markdown",
   "metadata": {
    "id": "Y1kNch0KCY8j"
   },
   "source": [
    "## 3. Dataset Preparation\n",
    "\n",
    "In this section, we prepare the image dataset by applying preprocessing and augmentation techniques, defining a custom PyTorch `Dataset` class, and creating `DataLoaders` for both training and validation phases.\n"
   ]
  },
  {
   "cell_type": "markdown",
   "metadata": {
    "id": "c5YglDwGi-KK"
   },
   "source": [
    "### 3.1 Define Transformation Pipelines\n",
    "\n",
    "We define image preprocessing and augmentation pipelines using **Albumentations** to improve generalization and performance.\n",
    "\n",
    "- The **training pipeline** includes resizing, flipping, distortion, noise, and normalization.\n",
    "- The **validation pipeline** includes only resizing and normalization to ensure consistent evaluation.\n"
   ]
  },
  {
   "cell_type": "code",
   "execution_count": null,
   "metadata": {
    "id": "QwTJNgErCfE8"
   },
   "outputs": [],
   "source": [
    "# Define preprocessing & augmentation for training set\n",
    "train_T = A.Compose([\n",
    "    A.Resize(224, 224), # Resize to model input size\n",
    "    A.HorizontalFlip(p=0.5), # Random horizontal flip\n",
    "    A.VerticalFlip(p=0.5),  # Random vertical flip\n",
    "    A.RandomBrightnessContrast(p=0.2),  # Slight brightness/contrast variation\n",
    "    A.GridDistortion(num_steps=5, distort_limit=0.03, p=0.2),  # Grid-based distortion\n",
    "    A.GaussNoise(p=0.1), # Add Gaussian noise\n",
    "    A.Normalize(mean=[0.485, 0.456, 0.406], # Normalize using ImageNet stats\n",
    "                std=[0.229, 0.224, 0.225]),\n",
    "    ToTensorV2() # Convert to PyTorch tensor\n",
    "])\n",
    "\n",
    "# Define preprocessing for validation set (no augmentation)\n",
    "val_T = A.Compose([\n",
    "    A.Resize(224, 224),\n",
    "    A.Normalize(mean=[0.485, 0.456, 0.406],\n",
    "                std=[0.229, 0.224, 0.225]),\n",
    "    ToTensorV2()\n",
    "])"
   ]
  },
  {
   "cell_type": "markdown",
   "metadata": {
    "id": "cKUmC4tyE-F8"
   },
   "source": [
    "### 3.2 Define Custom Dataset Class\n",
    "\n",
    "We define a custom PyTorch `Dataset` class to:\n",
    "\n",
    "- Apply the appropriate transformations.\n",
    "- Return each image and its label in tensor format.\n"
   ]
  },
  {
   "cell_type": "code",
   "execution_count": null,
   "metadata": {
    "id": "TbbQ1rcrFnIi"
   },
   "outputs": [],
   "source": [
    "# Custom Dataset class to load image-label pairs and apply transforms\n",
    "class LoadDataset(Dataset):\n",
    "  def __init__(self, images, labels, transform=None):\n",
    "    self.images = images\n",
    "    self.labels = labels\n",
    "    self.transform = transform\n",
    "\n",
    "  def __len__(self):\n",
    "    return len(self.images)\n",
    "\n",
    "  def __getitem__(self, idx):\n",
    "    img = self.images[idx]\n",
    "    img = img.convert('RGB') # Ensure image is in RGB format\n",
    "    img = np.array(img)\n",
    "\n",
    "    label = self.labels[idx]\n",
    "\n",
    "    if self.transform:\n",
    "      img = self.transform(image=img)['image']\n",
    "\n",
    "    return img, torch.tensor(label, dtype=torch.long)"
   ]
  },
  {
   "cell_type": "markdown",
   "metadata": {
    "id": "uyg6DlYdG-Jd"
   },
   "source": [
    "### 3.3 Create Dataset & DataLoader\n",
    "\n",
    "We wrap the image-label pairs using our custom `Dataset` class, and prepare `DataLoaders` to efficiently feed data during training and evaluation.\n"
   ]
  },
  {
   "cell_type": "code",
   "execution_count": null,
   "metadata": {
    "id": "Khf8G_pFGoAz"
   },
   "outputs": [],
   "source": [
    "# Wrap image and label arrays into Dataset objects\n",
    "train_dataset = LoadDataset(train_imgs, train_labels, train_T)\n",
    "val_dataset = LoadDataset(val_imgs, val_labels, val_T)\n",
    "\n",
    "# Create DataLoaders for batching and shuffling\n",
    "train_loader = DataLoader(train_dataset, batch_size=64, shuffle=True) # shuffle for training\n",
    "val_loader = DataLoader(val_dataset, batch_size=64, shuffle=False) # no shuffle for validation"
   ]
  },
  {
   "cell_type": "markdown",
   "metadata": {
    "id": "gs7GmSflHQud"
   },
   "source": [
    "## 4. Model, Optimizer, and Training Setup\n",
    "\n",
    "We adopt a **transfer learning** approach using a pre-trained **DenseNet121** model. To preserve the visual features learned from ImageNet, all convolutional layers are **frozen**, and we train **only the classifier head**. This initial setup focuses on **feature extraction**, before performing full fine-tuning in a later stage.\n"
   ]
  },
  {
   "cell_type": "markdown",
   "metadata": {
    "id": "h0bOfE1Kmk7W"
   },
   "source": [
    "### 4.1 Load Pre-trained Model\n",
    "\n",
    "We load **DenseNet121** with ImageNet weights to leverage powerful low-level feature extraction learned from large-scale natural images.\n"
   ]
  },
  {
   "cell_type": "code",
   "execution_count": null,
   "metadata": {
    "colab": {
     "base_uri": "https://localhost:8080/"
    },
    "executionInfo": {
     "elapsed": 588,
     "status": "ok",
     "timestamp": 1751040178940,
     "user": {
      "displayName": "M lutfi H Azzam",
      "userId": "10455614359958764409"
     },
     "user_tz": -420
    },
    "id": "Q6bNXa_KHUYX",
    "outputId": "f041ddb0-4ddb-4960-d139-a4031f9e8574"
   },
   "outputs": [
    {
     "name": "stderr",
     "output_type": "stream",
     "text": [
      "/usr/local/lib/python3.11/dist-packages/torchvision/models/_utils.py:208: UserWarning: The parameter 'pretrained' is deprecated since 0.13 and may be removed in the future, please use 'weights' instead.\n",
      "  warnings.warn(\n",
      "/usr/local/lib/python3.11/dist-packages/torchvision/models/_utils.py:223: UserWarning: Arguments other than a weight enum or `None` for 'weights' are deprecated since 0.13 and may be removed in the future. The current behavior is equivalent to passing `weights=DenseNet121_Weights.IMAGENET1K_V1`. You can also use `weights=DenseNet121_Weights.DEFAULT` to get the most up-to-date weights.\n",
      "  warnings.warn(msg)\n",
      "Downloading: \"https://download.pytorch.org/models/densenet121-a639ec97.pth\" to /root/.cache/torch/hub/checkpoints/densenet121-a639ec97.pth\n",
      "100%|██████████| 30.8M/30.8M [00:00<00:00, 111MB/s]\n"
     ]
    }
   ],
   "source": [
    "# Load DenseNet121 model pre-trained on ImageNet\n",
    "model = models.densenet121(pretrained=True)\n",
    "\n",
    "# Freeze all layers in the feature extractor to retain pre-trained representations\n",
    "for param in model.parameters():\n",
    "  param.requires_grad = False\n",
    "\n",
    "# Replace the classifier head to match the number of output classes (4)\n",
    "model.classifier = nn.Linear(model.classifier.in_features, 4)"
   ]
  },
  {
   "cell_type": "markdown",
   "metadata": {
    "id": "oA5cwI9nILc9"
   },
   "source": [
    "### 4.2 Define Optimizer, Scheduler, and Device\n",
    "\n",
    "We use the Adam optimizer to update only the classifier head. A learning rate scheduler reduces the learning rate when validation performance plateaus. GPU is used if available.\n"
   ]
  },
  {
   "cell_type": "code",
   "execution_count": null,
   "metadata": {
    "colab": {
     "base_uri": "https://localhost:8080/"
    },
    "collapsed": true,
    "executionInfo": {
     "elapsed": 315,
     "status": "ok",
     "timestamp": 1751041460529,
     "user": {
      "displayName": "M lutfi H Azzam",
      "userId": "10455614359958764409"
     },
     "user_tz": -420
    },
    "id": "36WMVD6FId46",
    "outputId": "561f2a9d-3d96-410a-bc23-51f98fad775d"
   },
   "outputs": [
    {
     "name": "stderr",
     "output_type": "stream",
     "text": [
      "/usr/local/lib/python3.11/dist-packages/torch/optim/lr_scheduler.py:62: UserWarning: The verbose parameter is deprecated. Please use get_last_lr() to access the learning rate.\n",
      "  warnings.warn(\n"
     ]
    }
   ],
   "source": [
    "# Configure optimizer to update only the classifier head\n",
    "early_optimizer = torch.optim.Adam(model.classifier.parameters(), lr=1e-3)\n",
    "\n",
    "# Set up learning rate scheduler to reduce LR if validation loss stops improving\n",
    "scheduler_early = ReduceLROnPlateau(early_optimizer, mode='min', factor=0.1, patience=2, verbose=True)\n",
    "\n",
    "# Automatically use GPU if available\n",
    "device = torch.device('cuda' if torch.cuda.is_available() else 'cpu')\n",
    "\n",
    "# Move model to the selected device\n",
    "model.to(device)"
   ]
  },
  {
   "cell_type": "markdown",
   "metadata": {
    "id": "y2-NlvF9sPvO"
   },
   "source": [
    "### 4.3 Define Weighted Loss Function\n",
    "\n",
    "To address class imbalance in the training data, we compute class weights and apply them to the cross-entropy loss function.\n"
   ]
  },
  {
   "cell_type": "code",
   "execution_count": null,
   "metadata": {
    "id": "jgNVFBE2sOK6"
   },
   "outputs": [],
   "source": [
    "# Compute class weights to handle imbalance and reduce bias toward frequent classes\n",
    "class_weight = compute_class_weight(\n",
    "    class_weight='balanced',\n",
    "    classes=np.unique(train_labels),\n",
    "    y=train_labels\n",
    ")\n",
    "class_weight = torch.tensor(class_weight, dtype=torch.float32).to(device)\n",
    "\n",
    "# Define weighted cross-entropy loss\n",
    "crieterion = nn.CrossEntropyLoss(weight=class_weight)"
   ]
  },
  {
   "cell_type": "markdown",
   "metadata": {
    "id": "rm2OueC5sk_Z"
   },
   "source": [
    "### 4.4 Define Early Stopping\n",
    "\n",
    "We implement a custom early stopping mechanism to terminate training when the validation loss no longer improves after a specified number of epochs.\n"
   ]
  },
  {
   "cell_type": "code",
   "execution_count": null,
   "metadata": {
    "id": "Hy5H29qWNEZE"
   },
   "outputs": [],
   "source": [
    "# Custom early stopping class to monitor validation performance\n",
    "# Stops training if no improvement is observed over 'patience' epochs\n",
    "class EarlyStopping:\n",
    "    def __init__(self, monitor='val_loss', mode='min', patience=3, delta=0.0, verbose=True):\n",
    "         \"\"\"\n",
    "        Args:\n",
    "            monitor (str): Metric to monitor ('val_loss' or 'val_acc')\n",
    "            mode (str): 'min' → lower is better, 'max' → higher is better\n",
    "            patience (int): # of epochs with no improvement before stopping\n",
    "            delta (float): Minimum change to qualify as improvement\n",
    "            verbose (bool): Print status each epoch if True\n",
    "        \"\"\"\n",
    "        self.monitor = monitor\n",
    "        self.mode = mode\n",
    "        self.patience = patience\n",
    "        self.delta = delta\n",
    "        self.verbose = verbose\n",
    "\n",
    "        self.best_score = None\n",
    "        self.counter = 0\n",
    "        self.early_stop = False\n",
    "\n",
    "        # Set comparison function and initial best value\n",
    "        if self.mode == 'min':\n",
    "            self.monitor_op = lambda current, best: current < best - self.delta\n",
    "            self.best_score = np.inf\n",
    "        elif self.mode == 'max':\n",
    "            self.monitor_op = lambda current, best: current > best + self.delta\n",
    "            self.best_score = -np.inf\n",
    "        else:\n",
    "            raise ValueError(\"mode must be 'min' or 'max'\")\n",
    "\n",
    "    def __call__(self, current_score):\n",
    "        # Initialize best score\n",
    "        if self.best_score is None:\n",
    "            self.best_score = current_score\n",
    "            if self.verbose:\n",
    "                print(f\"[EarlyStopping] Initial best {self.monitor}: {self.best_score:.4f}\")\n",
    "        # Check for improvement\n",
    "        elif self.monitor_op(current_score, self.best_score):\n",
    "            self.best_score = current_score\n",
    "            self.counter = 0\n",
    "            if self.verbose:\n",
    "                print(f\"[EarlyStopping] Improved {self.monitor}: {self.best_score:.4f}\")\n",
    "        else:\n",
    "            self.counter += 1\n",
    "            if self.verbose:\n",
    "                print(f\"[EarlyStopping] No improvement in {self.monitor} for {self.counter}/{self.patience} epochs.\")\n",
    "            # Stop training if performance has not improved for 'patience' epochs\n",
    "            if self.counter >= self.patience:\n",
    "                if self.verbose:\n",
    "                    print(f\"[EarlyStopping] Stopping training. Best {self.monitor}: {self.best_score:.4f}\")\n",
    "                self.early_stop = True"
   ]
  },
  {
   "cell_type": "code",
   "execution_count": null,
   "metadata": {
    "id": "7BD7D91GNJCP"
   },
   "outputs": [],
   "source": [
    "# Create an EarlyStopping instance to monitor validation loss\n",
    "early_stopping = EarlyStopping(monitor='val_loss', mode='min', patience=3, verbose=True)"
   ]
  },
  {
   "cell_type": "markdown",
   "metadata": {
    "id": "PN0S_JmiNWb-"
   },
   "source": [
    "## 5. Train Classifier Head (Warm-up Phase)\n",
    "\n",
    "In this phase, we only train the classifier head (fully connected layers) while keeping the backbone frozen. This **warm-up strategy** helps the model gradually adapt to the domain-specific brain MRI data without modifying the general features learned from ImageNet.\n",
    "\n",
    "The goal is to allow the final layers to specialize on our dataset before unfreezing and fine-tuning the entire network.\n"
   ]
  },
  {
   "cell_type": "code",
   "execution_count": null,
   "metadata": {
    "colab": {
     "base_uri": "https://localhost:8080/"
    },
    "collapsed": true,
    "executionInfo": {
     "elapsed": 887229,
     "status": "ok",
     "timestamp": 1751044031239,
     "user": {
      "displayName": "M lutfi H Azzam",
      "userId": "10455614359958764409"
     },
     "user_tz": -420
    },
    "id": "zJGO8gHmNbyT",
    "outputId": "51bc242e-fda2-4b95-9692-3654b5aec96d"
   },
   "outputs": [
    {
     "name": "stdout",
     "output_type": "stream",
     "text": [
      "Epoch 1/100\n",
      "--------------------------------------------------\n"
     ]
    },
    {
     "name": "stderr",
     "output_type": "stream",
     "text": [
      "Training: 100%|██████████| 72/72 [00:29<00:00,  2.47it/s]\n",
      "Validation: 100%|██████████| 18/18 [00:06<00:00,  2.85it/s]\n"
     ]
    },
    {
     "name": "stdout",
     "output_type": "stream",
     "text": [
      "Train Loss: 0.9025 | Train Acc: 0.67\n",
      "Val Loss: 0.5652 | Val Acc: 0.83\n",
      "[EarlyStopping] Improved val_loss: 0.5652\n",
      "[INFO]: Best model updated\n",
      "Epoch 2/100\n",
      "--------------------------------------------------\n"
     ]
    },
    {
     "name": "stderr",
     "output_type": "stream",
     "text": [
      "Training: 100%|██████████| 72/72 [00:27<00:00,  2.59it/s]\n",
      "Validation: 100%|██████████| 18/18 [00:06<00:00,  2.85it/s]\n"
     ]
    },
    {
     "name": "stdout",
     "output_type": "stream",
     "text": [
      "Train Loss: 0.5926 | Train Acc: 0.80\n",
      "Val Loss: 0.4685 | Val Acc: 0.84\n",
      "[EarlyStopping] Improved val_loss: 0.4685\n",
      "[INFO]: Best model updated\n",
      "Epoch 3/100\n",
      "--------------------------------------------------\n"
     ]
    },
    {
     "name": "stderr",
     "output_type": "stream",
     "text": [
      "Training: 100%|██████████| 72/72 [00:27<00:00,  2.58it/s]\n",
      "Validation: 100%|██████████| 18/18 [00:05<00:00,  3.08it/s]\n"
     ]
    },
    {
     "name": "stdout",
     "output_type": "stream",
     "text": [
      "Train Loss: 0.5114 | Train Acc: 0.82\n",
      "Val Loss: 0.4032 | Val Acc: 0.86\n",
      "[EarlyStopping] Improved val_loss: 0.4032\n",
      "[INFO]: Best model updated\n",
      "Epoch 4/100\n",
      "--------------------------------------------------\n"
     ]
    },
    {
     "name": "stderr",
     "output_type": "stream",
     "text": [
      "Training: 100%|██████████| 72/72 [00:28<00:00,  2.51it/s]\n",
      "Validation: 100%|██████████| 18/18 [00:05<00:00,  3.09it/s]\n"
     ]
    },
    {
     "name": "stdout",
     "output_type": "stream",
     "text": [
      "Train Loss: 0.4567 | Train Acc: 0.84\n",
      "Val Loss: 0.3715 | Val Acc: 0.87\n",
      "[EarlyStopping] Improved val_loss: 0.3715\n",
      "[INFO]: Best model updated\n",
      "Epoch 5/100\n",
      "--------------------------------------------------\n"
     ]
    },
    {
     "name": "stderr",
     "output_type": "stream",
     "text": [
      "Training: 100%|██████████| 72/72 [00:28<00:00,  2.56it/s]\n",
      "Validation: 100%|██████████| 18/18 [00:06<00:00,  2.94it/s]\n"
     ]
    },
    {
     "name": "stdout",
     "output_type": "stream",
     "text": [
      "Train Loss: 0.4312 | Train Acc: 0.86\n",
      "Val Loss: 0.3478 | Val Acc: 0.88\n",
      "[EarlyStopping] Improved val_loss: 0.3478\n",
      "[INFO]: Best model updated\n",
      "Epoch 6/100\n",
      "--------------------------------------------------\n"
     ]
    },
    {
     "name": "stderr",
     "output_type": "stream",
     "text": [
      "Training: 100%|██████████| 72/72 [00:27<00:00,  2.58it/s]\n",
      "Validation: 100%|██████████| 18/18 [00:06<00:00,  2.83it/s]\n"
     ]
    },
    {
     "name": "stdout",
     "output_type": "stream",
     "text": [
      "Train Loss: 0.4306 | Train Acc: 0.85\n",
      "Val Loss: 0.3342 | Val Acc: 0.88\n",
      "[EarlyStopping] Improved val_loss: 0.3342\n",
      "[INFO]: Best model updated\n",
      "Epoch 7/100\n",
      "--------------------------------------------------\n"
     ]
    },
    {
     "name": "stderr",
     "output_type": "stream",
     "text": [
      "Training: 100%|██████████| 72/72 [00:28<00:00,  2.54it/s]\n",
      "Validation: 100%|██████████| 18/18 [00:06<00:00,  2.86it/s]\n"
     ]
    },
    {
     "name": "stdout",
     "output_type": "stream",
     "text": [
      "Train Loss: 0.4107 | Train Acc: 0.85\n",
      "Val Loss: 0.3257 | Val Acc: 0.88\n",
      "[EarlyStopping] Improved val_loss: 0.3257\n",
      "[INFO]: Best model updated\n",
      "Epoch 8/100\n",
      "--------------------------------------------------\n"
     ]
    },
    {
     "name": "stderr",
     "output_type": "stream",
     "text": [
      "Training: 100%|██████████| 72/72 [00:28<00:00,  2.56it/s]\n",
      "Validation: 100%|██████████| 18/18 [00:05<00:00,  3.06it/s]\n"
     ]
    },
    {
     "name": "stdout",
     "output_type": "stream",
     "text": [
      "Train Loss: 0.3889 | Train Acc: 0.86\n",
      "Val Loss: 0.3175 | Val Acc: 0.89\n",
      "[EarlyStopping] Improved val_loss: 0.3175\n",
      "[INFO]: Best model updated\n",
      "Epoch 9/100\n",
      "--------------------------------------------------\n"
     ]
    },
    {
     "name": "stderr",
     "output_type": "stream",
     "text": [
      "Training: 100%|██████████| 72/72 [00:27<00:00,  2.59it/s]\n",
      "Validation: 100%|██████████| 18/18 [00:05<00:00,  3.10it/s]\n"
     ]
    },
    {
     "name": "stdout",
     "output_type": "stream",
     "text": [
      "Train Loss: 0.3896 | Train Acc: 0.86\n",
      "Val Loss: 0.3050 | Val Acc: 0.89\n",
      "[EarlyStopping] Improved val_loss: 0.3050\n",
      "[INFO]: Best model updated\n",
      "Epoch 10/100\n",
      "--------------------------------------------------\n"
     ]
    },
    {
     "name": "stderr",
     "output_type": "stream",
     "text": [
      "Training: 100%|██████████| 72/72 [00:27<00:00,  2.63it/s]\n",
      "Validation: 100%|██████████| 18/18 [00:06<00:00,  2.85it/s]\n"
     ]
    },
    {
     "name": "stdout",
     "output_type": "stream",
     "text": [
      "Train Loss: 0.3717 | Train Acc: 0.87\n",
      "Val Loss: 0.3130 | Val Acc: 0.88\n",
      "[EarlyStopping] No improvement in val_loss for 1/3 epochs.\n",
      "Epoch 11/100\n",
      "--------------------------------------------------\n"
     ]
    },
    {
     "name": "stderr",
     "output_type": "stream",
     "text": [
      "Training: 100%|██████████| 72/72 [00:27<00:00,  2.57it/s]\n",
      "Validation: 100%|██████████| 18/18 [00:06<00:00,  2.94it/s]\n"
     ]
    },
    {
     "name": "stdout",
     "output_type": "stream",
     "text": [
      "Train Loss: 0.3667 | Train Acc: 0.87\n",
      "Val Loss: 0.2993 | Val Acc: 0.90\n",
      "[EarlyStopping] Improved val_loss: 0.2993\n",
      "[INFO]: Best model updated\n",
      "Epoch 12/100\n",
      "--------------------------------------------------\n"
     ]
    },
    {
     "name": "stderr",
     "output_type": "stream",
     "text": [
      "Training: 100%|██████████| 72/72 [00:27<00:00,  2.58it/s]\n",
      "Validation: 100%|██████████| 18/18 [00:05<00:00,  3.12it/s]\n"
     ]
    },
    {
     "name": "stdout",
     "output_type": "stream",
     "text": [
      "Train Loss: 0.3517 | Train Acc: 0.88\n",
      "Val Loss: 0.2937 | Val Acc: 0.89\n",
      "[EarlyStopping] Improved val_loss: 0.2937\n",
      "[INFO]: Best model updated\n",
      "Epoch 13/100\n",
      "--------------------------------------------------\n"
     ]
    },
    {
     "name": "stderr",
     "output_type": "stream",
     "text": [
      "Training: 100%|██████████| 72/72 [00:27<00:00,  2.58it/s]\n",
      "Validation: 100%|██████████| 18/18 [00:05<00:00,  3.10it/s]\n"
     ]
    },
    {
     "name": "stdout",
     "output_type": "stream",
     "text": [
      "Train Loss: 0.3416 | Train Acc: 0.88\n",
      "Val Loss: 0.2886 | Val Acc: 0.90\n",
      "[EarlyStopping] Improved val_loss: 0.2886\n",
      "[INFO]: Best model updated\n",
      "Epoch 14/100\n",
      "--------------------------------------------------\n"
     ]
    },
    {
     "name": "stderr",
     "output_type": "stream",
     "text": [
      "Training: 100%|██████████| 72/72 [00:26<00:00,  2.68it/s]\n",
      "Validation: 100%|██████████| 18/18 [00:06<00:00,  2.99it/s]\n"
     ]
    },
    {
     "name": "stdout",
     "output_type": "stream",
     "text": [
      "Train Loss: 0.3559 | Train Acc: 0.87\n",
      "Val Loss: 0.2860 | Val Acc: 0.90\n",
      "[EarlyStopping] Improved val_loss: 0.2860\n",
      "[INFO]: Best model updated\n",
      "Epoch 15/100\n",
      "--------------------------------------------------\n"
     ]
    },
    {
     "name": "stderr",
     "output_type": "stream",
     "text": [
      "Training: 100%|██████████| 72/72 [00:27<00:00,  2.62it/s]\n",
      "Validation: 100%|██████████| 18/18 [00:05<00:00,  3.02it/s]\n"
     ]
    },
    {
     "name": "stdout",
     "output_type": "stream",
     "text": [
      "Train Loss: 0.3408 | Train Acc: 0.88\n",
      "Val Loss: 0.2827 | Val Acc: 0.90\n",
      "[EarlyStopping] Improved val_loss: 0.2827\n",
      "[INFO]: Best model updated\n",
      "Epoch 16/100\n",
      "--------------------------------------------------\n"
     ]
    },
    {
     "name": "stderr",
     "output_type": "stream",
     "text": [
      "Training: 100%|██████████| 72/72 [00:27<00:00,  2.58it/s]\n",
      "Validation: 100%|██████████| 18/18 [00:05<00:00,  3.12it/s]\n"
     ]
    },
    {
     "name": "stdout",
     "output_type": "stream",
     "text": [
      "Train Loss: 0.3500 | Train Acc: 0.88\n",
      "Val Loss: 0.2801 | Val Acc: 0.90\n",
      "[EarlyStopping] Improved val_loss: 0.2801\n",
      "[INFO]: Best model updated\n",
      "Epoch 17/100\n",
      "--------------------------------------------------\n"
     ]
    },
    {
     "name": "stderr",
     "output_type": "stream",
     "text": [
      "Training: 100%|██████████| 72/72 [00:27<00:00,  2.59it/s]\n",
      "Validation: 100%|██████████| 18/18 [00:06<00:00,  2.99it/s]\n"
     ]
    },
    {
     "name": "stdout",
     "output_type": "stream",
     "text": [
      "Train Loss: 0.3386 | Train Acc: 0.88\n",
      "Val Loss: 0.2753 | Val Acc: 0.90\n",
      "[EarlyStopping] Improved val_loss: 0.2753\n",
      "[INFO]: Best model updated\n",
      "Epoch 18/100\n",
      "--------------------------------------------------\n"
     ]
    },
    {
     "name": "stderr",
     "output_type": "stream",
     "text": [
      "Training: 100%|██████████| 72/72 [00:27<00:00,  2.62it/s]\n",
      "Validation: 100%|██████████| 18/18 [00:06<00:00,  2.91it/s]\n"
     ]
    },
    {
     "name": "stdout",
     "output_type": "stream",
     "text": [
      "Train Loss: 0.3360 | Train Acc: 0.87\n",
      "Val Loss: 0.2752 | Val Acc: 0.90\n",
      "[EarlyStopping] Improved val_loss: 0.2752\n",
      "[INFO]: Best model updated\n",
      "Epoch 19/100\n",
      "--------------------------------------------------\n"
     ]
    },
    {
     "name": "stderr",
     "output_type": "stream",
     "text": [
      "Training: 100%|██████████| 72/72 [00:27<00:00,  2.60it/s]\n",
      "Validation: 100%|██████████| 18/18 [00:06<00:00,  2.98it/s]\n"
     ]
    },
    {
     "name": "stdout",
     "output_type": "stream",
     "text": [
      "Train Loss: 0.3264 | Train Acc: 0.88\n",
      "Val Loss: 0.2755 | Val Acc: 0.90\n",
      "[EarlyStopping] No improvement in val_loss for 1/3 epochs.\n",
      "Epoch 20/100\n",
      "--------------------------------------------------\n"
     ]
    },
    {
     "name": "stderr",
     "output_type": "stream",
     "text": [
      "Training: 100%|██████████| 72/72 [00:28<00:00,  2.56it/s]\n",
      "Validation: 100%|██████████| 18/18 [00:05<00:00,  3.07it/s]\n"
     ]
    },
    {
     "name": "stdout",
     "output_type": "stream",
     "text": [
      "Train Loss: 0.3331 | Train Acc: 0.88\n",
      "Val Loss: 0.2717 | Val Acc: 0.90\n",
      "[EarlyStopping] Improved val_loss: 0.2717\n",
      "[INFO]: Best model updated\n",
      "Epoch 21/100\n",
      "--------------------------------------------------\n"
     ]
    },
    {
     "name": "stderr",
     "output_type": "stream",
     "text": [
      "Training: 100%|██████████| 72/72 [00:27<00:00,  2.58it/s]\n",
      "Validation: 100%|██████████| 18/18 [00:06<00:00,  2.93it/s]\n"
     ]
    },
    {
     "name": "stdout",
     "output_type": "stream",
     "text": [
      "Train Loss: 0.3282 | Train Acc: 0.88\n",
      "Val Loss: 0.2743 | Val Acc: 0.90\n",
      "[EarlyStopping] No improvement in val_loss for 1/3 epochs.\n",
      "Epoch 22/100\n",
      "--------------------------------------------------\n"
     ]
    },
    {
     "name": "stderr",
     "output_type": "stream",
     "text": [
      "Training: 100%|██████████| 72/72 [00:27<00:00,  2.59it/s]\n",
      "Validation: 100%|██████████| 18/18 [00:06<00:00,  2.90it/s]\n"
     ]
    },
    {
     "name": "stdout",
     "output_type": "stream",
     "text": [
      "Train Loss: 0.3295 | Train Acc: 0.88\n",
      "Val Loss: 0.2684 | Val Acc: 0.91\n",
      "[EarlyStopping] Improved val_loss: 0.2684\n",
      "[INFO]: Best model updated\n",
      "Epoch 23/100\n",
      "--------------------------------------------------\n"
     ]
    },
    {
     "name": "stderr",
     "output_type": "stream",
     "text": [
      "Training: 100%|██████████| 72/72 [00:27<00:00,  2.58it/s]\n",
      "Validation: 100%|██████████| 18/18 [00:06<00:00,  2.95it/s]\n"
     ]
    },
    {
     "name": "stdout",
     "output_type": "stream",
     "text": [
      "Train Loss: 0.3173 | Train Acc: 0.88\n",
      "Val Loss: 0.2611 | Val Acc: 0.90\n",
      "[EarlyStopping] Improved val_loss: 0.2611\n",
      "[INFO]: Best model updated\n",
      "Epoch 24/100\n",
      "--------------------------------------------------\n"
     ]
    },
    {
     "name": "stderr",
     "output_type": "stream",
     "text": [
      "Training: 100%|██████████| 72/72 [00:27<00:00,  2.59it/s]\n",
      "Validation: 100%|██████████| 18/18 [00:05<00:00,  3.10it/s]\n"
     ]
    },
    {
     "name": "stdout",
     "output_type": "stream",
     "text": [
      "Train Loss: 0.3173 | Train Acc: 0.88\n",
      "Val Loss: 0.2862 | Val Acc: 0.90\n",
      "[EarlyStopping] No improvement in val_loss for 1/3 epochs.\n",
      "Epoch 25/100\n",
      "--------------------------------------------------\n"
     ]
    },
    {
     "name": "stderr",
     "output_type": "stream",
     "text": [
      "Training: 100%|██████████| 72/72 [00:28<00:00,  2.57it/s]\n",
      "Validation: 100%|██████████| 18/18 [00:05<00:00,  3.04it/s]\n"
     ]
    },
    {
     "name": "stdout",
     "output_type": "stream",
     "text": [
      "Train Loss: 0.3052 | Train Acc: 0.89\n",
      "Val Loss: 0.2645 | Val Acc: 0.90\n",
      "[EarlyStopping] No improvement in val_loss for 2/3 epochs.\n",
      "Epoch 26/100\n",
      "--------------------------------------------------\n"
     ]
    },
    {
     "name": "stderr",
     "output_type": "stream",
     "text": [
      "Training: 100%|██████████| 72/72 [00:27<00:00,  2.61it/s]\n",
      "Validation: 100%|██████████| 18/18 [00:06<00:00,  2.87it/s]"
     ]
    },
    {
     "name": "stdout",
     "output_type": "stream",
     "text": [
      "Train Loss: 0.3027 | Train Acc: 0.89\n",
      "Val Loss: 0.2660 | Val Acc: 0.91\n",
      "[EarlyStopping] No improvement in val_loss for 3/3 epochs.\n",
      "[EarlyStopping] Stopping training. Best val_loss: 0.2611\n",
      "[INFO]: Training Stopped by EarlyStopping\n",
      "[INFO]: Best Model Loaded\n"
     ]
    },
    {
     "name": "stderr",
     "output_type": "stream",
     "text": [
      "\n"
     ]
    }
   ],
   "source": [
    "# Save initial model weights and set best validation loss to infinity\n",
    "best_model_wts = copy.deepcopy(model.state_dict())\n",
    "best_val_loss = np.inf\n",
    "\n",
    "num_epoch = 100\n",
    "\n",
    "for epoch in range(num_epoch):\n",
    "  print(\"-\" * 50)\n",
    "  print(f\"Epoch {epoch+1}/{num_epoch}\")\n",
    "  print(\"-\" * 50)\n",
    "\n",
    "  # --- training Phase ---\n",
    "  model.train()\n",
    "  train_loss, correct, total = 0.0, 0, 0\n",
    "\n",
    "  for images, labels in tqdm(train_loader, desc=\"Training\"):\n",
    "    images, labels = images.to(device), labels.to(device)\n",
    "\n",
    "    early_optimizer.zero_grad()\n",
    "    outputs = model(images)\n",
    "    loss = crieterion(outputs, labels)\n",
    "    loss.backward()\n",
    "    early_optimizer.step()\n",
    "\n",
    "    train_loss += loss.item() * images.size(0)\n",
    "    _, predicted = torch.max(outputs, dim=1)\n",
    "    correct += (predicted == labels).sum().item()\n",
    "    total += labels.size(0)\n",
    "\n",
    "  avg_train_loss = train_loss / total\n",
    "  train_acc = correct / total\n",
    "\n",
    "  # --- Validation Phase ---\n",
    "  model.eval()\n",
    "  val_loss, correct, total = 0.0, 0, 0\n",
    "\n",
    "  with torch.no_grad():\n",
    "    for images, labels in tqdm(val_loader, desc=\"Validation\"):\n",
    "        images, labels = images.to(device), labels.to(device)\n",
    "\n",
    "        outputs = model(images)\n",
    "        loss = crieterion(outputs, labels)\n",
    "\n",
    "        val_loss += loss.item() * images.size(0)\n",
    "        _, predicted = torch.max(outputs, dim=1)\n",
    "        correct += (predicted == labels).sum().item()\n",
    "        total += labels.size(0)\n",
    "\n",
    "  avg_val_loss = val_loss / total\n",
    "  val_acc = correct / total\n",
    "\n",
    "  print(f\"Train Loss: {avg_train_loss:.4f} | Train Acc: {train_acc:.2f}\")\n",
    "  print(f\"Val Loss: {avg_val_loss:.4f} | Val Acc: {val_acc:.2f}\")\n",
    "\n",
    "  # Step the learning rate scheduler and update early stopping\n",
    "  scheduler_early.step(avg_val_loss)\n",
    "  early_stopping(avg_val_loss)\n",
    "\n",
    "  # Save model weights if validation loss improves\n",
    "  if avg_val_loss < best_val_loss:\n",
    "    best_val_loss = avg_val_loss\n",
    "    best_model_wts = copy.deepcopy(model.state_dict())\n",
    "    torch.save(model.state_dict(), 'mct_best_model.pth')\n",
    "    print(f\"[INFO]: Best model updated\")\n",
    "\n",
    "  # Stop training if early stopping is triggered\n",
    "  if early_stopping.early_stop:\n",
    "    print(f\"[INFO]: Training Stopped by EarlyStopping\")\n",
    "    break\n",
    "\n",
    "# Load best model weights after training\n",
    "model.load_state_dict(best_model_wts)\n",
    "print(\"[INFO]: Best Model Loaded\")\n",
    "\n"
   ]
  },
  {
   "cell_type": "markdown",
   "metadata": {
    "id": "EJCKrMMSSrKy"
   },
   "source": [
    "## 6. Fine-Tuning Setup\n",
    "\n",
    "In this phase, we fine-tune the deeper parts of the model to better adapt to the brain tumor classification task. Instead of unfreezing the entire backbone, we selectively unfreeze the final convolutional block and normalization layer to balance adaptability and generalization.\n",
    "\n",
    "Fine-tuning allows the model to refine high-level features learned from ImageNet in a domain-specific context.\n",
    "\n"
   ]
  },
  {
   "cell_type": "markdown",
   "metadata": {
    "id": "gU8MqIo9xNgM"
   },
   "source": [
    "### 6.1 Unfreeze Selected Layers\n",
    "\n",
    "Here, we unfreeze the `denseblock4` and `norm5` layers of the backbone while keeping all earlier layers frozen. This selective unfreezing helps avoid overfitting and reduces the risk of catastrophic forgetting.\n",
    "\n"
   ]
  },
  {
   "cell_type": "code",
   "execution_count": null,
   "metadata": {
    "id": "3dI3-HEjXX0F"
   },
   "outputs": [],
   "source": [
    "# Only unfreeze the last DenseBlock and final batch norm layer (norm5)\n",
    "for name, param in model.named_parameters():\n",
    "  if 'denseblock4' in name or 'norm5' in name:\n",
    "    param.requires_grad = True\n",
    "  else:\n",
    "    param.requires_grad = False"
   ]
  },
  {
   "cell_type": "markdown",
   "metadata": {
    "id": "hDbRC7Z8X3PS"
   },
   "source": [
    "### 6.2 Fine-Tuning Optimizer & Callbacks\n",
    "\n",
    "We define a new optimizer and learning rate scheduler for the fine-tuning phase. Only the parameters marked as trainable (i.e., from `denseblock4` and `norm5`) are updated during this phase.\n",
    "\n",
    "An `EarlyStopping` callback is also set up to prevent overfitting by halting training when the validation loss no longer improves.\n",
    "\n",
    "> **Note**: We print the active learning rate after optimizer setup to verify that the new learning rate is properly configured.\n"
   ]
  },
  {
   "cell_type": "code",
   "execution_count": null,
   "metadata": {
    "id": "x-Y0BVYYX9uD"
   },
   "outputs": [],
   "source": [
    "# Define optimizer for fine-tuning (only trainable parameters)\n",
    "ft_optimizer = torch.optim.Adam(filter(lambda p: p.requires_grad, model.parameters()), lr=1e-5)\n",
    "\n",
    "# Print current learning rate (for verification)\n",
    "current_lr = ft_optimizer.param_groups[0]['lr']\n",
    "print(f\"Active learning rate: {current_lr}\")\n",
    "\n",
    "# Define scheduler for fine-tuning\n",
    "scheduler_ft = ReduceLROnPlateau(ft_optimizer, mode='min', factor=0.1, patience=2)\n",
    "\n",
    "# Define early stopping callback\n",
    "early_stopping = EarlyStopping(monitor='val_loss', mode='min', patience=3, verbose=True)\n"
   ]
  },
  {
   "cell_type": "markdown",
   "metadata": {
    "id": "LLS2wHFFYX0R"
   },
   "source": [
    "## 7. Fine-Tune Backbone (Training Loop)\n",
    "\n",
    "In this section, we perform **fine-tuning** by training the previously unfrozen layers (`denseblock4` and `norm5`) along with the classifier head. Unlike the warm-up phase, this step allows the model to adjust higher-level convolutional features to the specific patterns present in brain MRI images.\n",
    "\n",
    "The training loop here follows the same structure as the warm-up phase (Section 5), with updated optimizer and scheduler settings defined in Section 6.2. We continue to monitor validation loss and apply **early stopping** to prevent overfitting.\n"
   ]
  },
  {
   "cell_type": "code",
   "execution_count": null,
   "metadata": {
    "colab": {
     "base_uri": "https://localhost:8080/"
    },
    "collapsed": true,
    "executionInfo": {
     "elapsed": 2002446,
     "status": "ok",
     "timestamp": 1751046784339,
     "user": {
      "displayName": "M lutfi H Azzam",
      "userId": "10455614359958764409"
     },
     "user_tz": -420
    },
    "id": "_z3B3IzdZBW8",
    "outputId": "3b99f1e1-a8ec-4be2-db10-2dfa848f10a8"
   },
   "outputs": [
    {
     "name": "stdout",
     "output_type": "stream",
     "text": [
      "Epoch 1/100\n",
      "--------------------------------------------------\n"
     ]
    },
    {
     "name": "stderr",
     "output_type": "stream",
     "text": [
      "Training: 100%|██████████| 72/72 [00:30<00:00,  2.37it/s]\n",
      "Validation: 100%|██████████| 18/18 [00:05<00:00,  3.00it/s]\n"
     ]
    },
    {
     "name": "stdout",
     "output_type": "stream",
     "text": [
      "Train Loss: 0.3080 | Train Acc: 0.89\n",
      "Val Loss: 0.2512 | Val Acc: 0.91\n",
      "[EarlyStopping] Improved val_loss: 0.2512\n",
      "[INFO]: Best model updated\n",
      "Epoch 2/100\n",
      "--------------------------------------------------\n"
     ]
    },
    {
     "name": "stderr",
     "output_type": "stream",
     "text": [
      "Training: 100%|██████████| 72/72 [00:29<00:00,  2.40it/s]\n",
      "Validation: 100%|██████████| 18/18 [00:06<00:00,  2.97it/s]\n"
     ]
    },
    {
     "name": "stdout",
     "output_type": "stream",
     "text": [
      "Train Loss: 0.2912 | Train Acc: 0.90\n",
      "Val Loss: 0.2425 | Val Acc: 0.91\n",
      "[EarlyStopping] Improved val_loss: 0.2425\n",
      "[INFO]: Best model updated\n",
      "Epoch 3/100\n",
      "--------------------------------------------------\n"
     ]
    },
    {
     "name": "stderr",
     "output_type": "stream",
     "text": [
      "Training: 100%|██████████| 72/72 [00:29<00:00,  2.40it/s]\n",
      "Validation: 100%|██████████| 18/18 [00:06<00:00,  2.87it/s]\n"
     ]
    },
    {
     "name": "stdout",
     "output_type": "stream",
     "text": [
      "Train Loss: 0.2694 | Train Acc: 0.91\n",
      "Val Loss: 0.2288 | Val Acc: 0.92\n",
      "[EarlyStopping] Improved val_loss: 0.2288\n",
      "[INFO]: Best model updated\n",
      "Epoch 4/100\n",
      "--------------------------------------------------\n"
     ]
    },
    {
     "name": "stderr",
     "output_type": "stream",
     "text": [
      "Training: 100%|██████████| 72/72 [00:30<00:00,  2.39it/s]\n",
      "Validation: 100%|██████████| 18/18 [00:06<00:00,  2.88it/s]\n"
     ]
    },
    {
     "name": "stdout",
     "output_type": "stream",
     "text": [
      "Train Loss: 0.2538 | Train Acc: 0.91\n",
      "Val Loss: 0.2167 | Val Acc: 0.92\n",
      "[EarlyStopping] Improved val_loss: 0.2167\n",
      "[INFO]: Best model updated\n",
      "Epoch 5/100\n",
      "--------------------------------------------------\n"
     ]
    },
    {
     "name": "stderr",
     "output_type": "stream",
     "text": [
      "Training: 100%|██████████| 72/72 [00:30<00:00,  2.39it/s]\n",
      "Validation: 100%|██████████| 18/18 [00:06<00:00,  2.84it/s]\n"
     ]
    },
    {
     "name": "stdout",
     "output_type": "stream",
     "text": [
      "Train Loss: 0.2479 | Train Acc: 0.91\n",
      "Val Loss: 0.2108 | Val Acc: 0.92\n",
      "[EarlyStopping] Improved val_loss: 0.2108\n",
      "[INFO]: Best model updated\n",
      "Epoch 6/100\n",
      "--------------------------------------------------\n"
     ]
    },
    {
     "name": "stderr",
     "output_type": "stream",
     "text": [
      "Training: 100%|██████████| 72/72 [00:30<00:00,  2.40it/s]\n",
      "Validation: 100%|██████████| 18/18 [00:06<00:00,  2.82it/s]\n"
     ]
    },
    {
     "name": "stdout",
     "output_type": "stream",
     "text": [
      "Train Loss: 0.2299 | Train Acc: 0.92\n",
      "Val Loss: 0.2074 | Val Acc: 0.93\n",
      "[EarlyStopping] Improved val_loss: 0.2074\n",
      "[INFO]: Best model updated\n",
      "Epoch 7/100\n",
      "--------------------------------------------------\n"
     ]
    },
    {
     "name": "stderr",
     "output_type": "stream",
     "text": [
      "Training: 100%|██████████| 72/72 [00:29<00:00,  2.40it/s]\n",
      "Validation: 100%|██████████| 18/18 [00:06<00:00,  2.87it/s]\n"
     ]
    },
    {
     "name": "stdout",
     "output_type": "stream",
     "text": [
      "Train Loss: 0.2273 | Train Acc: 0.92\n",
      "Val Loss: 0.1999 | Val Acc: 0.93\n",
      "[EarlyStopping] Improved val_loss: 0.1999\n",
      "[INFO]: Best model updated\n",
      "Epoch 8/100\n",
      "--------------------------------------------------\n"
     ]
    },
    {
     "name": "stderr",
     "output_type": "stream",
     "text": [
      "Training: 100%|██████████| 72/72 [00:29<00:00,  2.41it/s]\n",
      "Validation: 100%|██████████| 18/18 [00:06<00:00,  2.88it/s]\n"
     ]
    },
    {
     "name": "stdout",
     "output_type": "stream",
     "text": [
      "Train Loss: 0.2193 | Train Acc: 0.92\n",
      "Val Loss: 0.1960 | Val Acc: 0.93\n",
      "[EarlyStopping] Improved val_loss: 0.1960\n",
      "[INFO]: Best model updated\n",
      "Epoch 9/100\n",
      "--------------------------------------------------\n"
     ]
    },
    {
     "name": "stderr",
     "output_type": "stream",
     "text": [
      "Training: 100%|██████████| 72/72 [00:30<00:00,  2.40it/s]\n",
      "Validation: 100%|██████████| 18/18 [00:06<00:00,  2.83it/s]\n"
     ]
    },
    {
     "name": "stdout",
     "output_type": "stream",
     "text": [
      "Train Loss: 0.2100 | Train Acc: 0.93\n",
      "Val Loss: 0.1892 | Val Acc: 0.93\n",
      "[EarlyStopping] Improved val_loss: 0.1892\n",
      "[INFO]: Best model updated\n",
      "Epoch 10/100\n",
      "--------------------------------------------------\n"
     ]
    },
    {
     "name": "stderr",
     "output_type": "stream",
     "text": [
      "Training: 100%|██████████| 72/72 [00:30<00:00,  2.40it/s]\n",
      "Validation: 100%|██████████| 18/18 [00:06<00:00,  2.95it/s]\n"
     ]
    },
    {
     "name": "stdout",
     "output_type": "stream",
     "text": [
      "Train Loss: 0.2085 | Train Acc: 0.93\n",
      "Val Loss: 0.1833 | Val Acc: 0.94\n",
      "[EarlyStopping] Improved val_loss: 0.1833\n",
      "[INFO]: Best model updated\n",
      "Epoch 11/100\n",
      "--------------------------------------------------\n"
     ]
    },
    {
     "name": "stderr",
     "output_type": "stream",
     "text": [
      "Training: 100%|██████████| 72/72 [00:30<00:00,  2.38it/s]\n",
      "Validation: 100%|██████████| 18/18 [00:05<00:00,  3.04it/s]\n"
     ]
    },
    {
     "name": "stdout",
     "output_type": "stream",
     "text": [
      "Train Loss: 0.1908 | Train Acc: 0.93\n",
      "Val Loss: 0.1781 | Val Acc: 0.94\n",
      "[EarlyStopping] Improved val_loss: 0.1781\n",
      "[INFO]: Best model updated\n",
      "Epoch 12/100\n",
      "--------------------------------------------------\n"
     ]
    },
    {
     "name": "stderr",
     "output_type": "stream",
     "text": [
      "Training: 100%|██████████| 72/72 [00:30<00:00,  2.38it/s]\n",
      "Validation: 100%|██████████| 18/18 [00:05<00:00,  3.03it/s]\n"
     ]
    },
    {
     "name": "stdout",
     "output_type": "stream",
     "text": [
      "Train Loss: 0.1935 | Train Acc: 0.94\n",
      "Val Loss: 0.1765 | Val Acc: 0.94\n",
      "[EarlyStopping] Improved val_loss: 0.1765\n",
      "[INFO]: Best model updated\n",
      "Epoch 13/100\n",
      "--------------------------------------------------\n"
     ]
    },
    {
     "name": "stderr",
     "output_type": "stream",
     "text": [
      "Training: 100%|██████████| 72/72 [00:30<00:00,  2.38it/s]\n",
      "Validation: 100%|██████████| 18/18 [00:05<00:00,  3.11it/s]\n"
     ]
    },
    {
     "name": "stdout",
     "output_type": "stream",
     "text": [
      "Train Loss: 0.1906 | Train Acc: 0.93\n",
      "Val Loss: 0.1712 | Val Acc: 0.94\n",
      "[EarlyStopping] Improved val_loss: 0.1712\n",
      "[INFO]: Best model updated\n",
      "Epoch 14/100\n",
      "--------------------------------------------------\n"
     ]
    },
    {
     "name": "stderr",
     "output_type": "stream",
     "text": [
      "Training: 100%|██████████| 72/72 [00:30<00:00,  2.37it/s]\n",
      "Validation: 100%|██████████| 18/18 [00:05<00:00,  3.07it/s]\n"
     ]
    },
    {
     "name": "stdout",
     "output_type": "stream",
     "text": [
      "Train Loss: 0.1868 | Train Acc: 0.93\n",
      "Val Loss: 0.1691 | Val Acc: 0.94\n",
      "[EarlyStopping] Improved val_loss: 0.1691\n",
      "[INFO]: Best model updated\n",
      "Epoch 15/100\n",
      "--------------------------------------------------\n"
     ]
    },
    {
     "name": "stderr",
     "output_type": "stream",
     "text": [
      "Training: 100%|██████████| 72/72 [00:30<00:00,  2.37it/s]\n",
      "Validation: 100%|██████████| 18/18 [00:05<00:00,  3.08it/s]\n"
     ]
    },
    {
     "name": "stdout",
     "output_type": "stream",
     "text": [
      "Train Loss: 0.1836 | Train Acc: 0.94\n",
      "Val Loss: 0.1662 | Val Acc: 0.95\n",
      "[EarlyStopping] Improved val_loss: 0.1662\n",
      "[INFO]: Best model updated\n",
      "Epoch 16/100\n",
      "--------------------------------------------------\n"
     ]
    },
    {
     "name": "stderr",
     "output_type": "stream",
     "text": [
      "Training: 100%|██████████| 72/72 [00:30<00:00,  2.37it/s]\n",
      "Validation: 100%|██████████| 18/18 [00:05<00:00,  3.12it/s]\n"
     ]
    },
    {
     "name": "stdout",
     "output_type": "stream",
     "text": [
      "Train Loss: 0.1689 | Train Acc: 0.94\n",
      "Val Loss: 0.1590 | Val Acc: 0.95\n",
      "[EarlyStopping] Improved val_loss: 0.1590\n",
      "[INFO]: Best model updated\n",
      "Epoch 17/100\n",
      "--------------------------------------------------\n"
     ]
    },
    {
     "name": "stderr",
     "output_type": "stream",
     "text": [
      "Training: 100%|██████████| 72/72 [00:30<00:00,  2.36it/s]\n",
      "Validation: 100%|██████████| 18/18 [00:05<00:00,  3.10it/s]\n"
     ]
    },
    {
     "name": "stdout",
     "output_type": "stream",
     "text": [
      "Train Loss: 0.1630 | Train Acc: 0.94\n",
      "Val Loss: 0.1593 | Val Acc: 0.94\n",
      "[EarlyStopping] No improvement in val_loss for 1/3 epochs.\n",
      "Epoch 18/100\n",
      "--------------------------------------------------\n"
     ]
    },
    {
     "name": "stderr",
     "output_type": "stream",
     "text": [
      "Training: 100%|██████████| 72/72 [00:30<00:00,  2.37it/s]\n",
      "Validation: 100%|██████████| 18/18 [00:05<00:00,  3.08it/s]\n"
     ]
    },
    {
     "name": "stdout",
     "output_type": "stream",
     "text": [
      "Train Loss: 0.1652 | Train Acc: 0.94\n",
      "Val Loss: 0.1572 | Val Acc: 0.94\n",
      "[EarlyStopping] Improved val_loss: 0.1572\n",
      "[INFO]: Best model updated\n",
      "Epoch 19/100\n",
      "--------------------------------------------------\n"
     ]
    },
    {
     "name": "stderr",
     "output_type": "stream",
     "text": [
      "Training: 100%|██████████| 72/72 [00:30<00:00,  2.34it/s]\n",
      "Validation: 100%|██████████| 18/18 [00:05<00:00,  3.04it/s]\n"
     ]
    },
    {
     "name": "stdout",
     "output_type": "stream",
     "text": [
      "Train Loss: 0.1590 | Train Acc: 0.94\n",
      "Val Loss: 0.1502 | Val Acc: 0.95\n",
      "[EarlyStopping] Improved val_loss: 0.1502\n",
      "[INFO]: Best model updated\n",
      "Epoch 20/100\n",
      "--------------------------------------------------\n"
     ]
    },
    {
     "name": "stderr",
     "output_type": "stream",
     "text": [
      "Training: 100%|██████████| 72/72 [00:30<00:00,  2.37it/s]\n",
      "Validation: 100%|██████████| 18/18 [00:05<00:00,  3.05it/s]\n"
     ]
    },
    {
     "name": "stdout",
     "output_type": "stream",
     "text": [
      "Train Loss: 0.1641 | Train Acc: 0.94\n",
      "Val Loss: 0.1482 | Val Acc: 0.95\n",
      "[EarlyStopping] Improved val_loss: 0.1482\n",
      "[INFO]: Best model updated\n",
      "Epoch 21/100\n",
      "--------------------------------------------------\n"
     ]
    },
    {
     "name": "stderr",
     "output_type": "stream",
     "text": [
      "Training: 100%|██████████| 72/72 [00:30<00:00,  2.39it/s]\n",
      "Validation: 100%|██████████| 18/18 [00:06<00:00,  2.95it/s]\n"
     ]
    },
    {
     "name": "stdout",
     "output_type": "stream",
     "text": [
      "Train Loss: 0.1628 | Train Acc: 0.94\n",
      "Val Loss: 0.1443 | Val Acc: 0.95\n",
      "[EarlyStopping] Improved val_loss: 0.1443\n",
      "[INFO]: Best model updated\n",
      "Epoch 22/100\n",
      "--------------------------------------------------\n"
     ]
    },
    {
     "name": "stderr",
     "output_type": "stream",
     "text": [
      "Training: 100%|██████████| 72/72 [00:29<00:00,  2.41it/s]\n",
      "Validation: 100%|██████████| 18/18 [00:06<00:00,  2.89it/s]\n"
     ]
    },
    {
     "name": "stdout",
     "output_type": "stream",
     "text": [
      "Train Loss: 0.1408 | Train Acc: 0.96\n",
      "Val Loss: 0.1443 | Val Acc: 0.95\n",
      "[EarlyStopping] Improved val_loss: 0.1443\n",
      "[INFO]: Best model updated\n",
      "Epoch 23/100\n",
      "--------------------------------------------------\n"
     ]
    },
    {
     "name": "stderr",
     "output_type": "stream",
     "text": [
      "Training: 100%|██████████| 72/72 [00:30<00:00,  2.40it/s]\n",
      "Validation: 100%|██████████| 18/18 [00:06<00:00,  2.85it/s]\n"
     ]
    },
    {
     "name": "stdout",
     "output_type": "stream",
     "text": [
      "Train Loss: 0.1425 | Train Acc: 0.95\n",
      "Val Loss: 0.1417 | Val Acc: 0.95\n",
      "[EarlyStopping] Improved val_loss: 0.1417\n",
      "[INFO]: Best model updated\n",
      "Epoch 24/100\n",
      "--------------------------------------------------\n"
     ]
    },
    {
     "name": "stderr",
     "output_type": "stream",
     "text": [
      "Training: 100%|██████████| 72/72 [00:29<00:00,  2.42it/s]\n",
      "Validation: 100%|██████████| 18/18 [00:06<00:00,  2.86it/s]\n"
     ]
    },
    {
     "name": "stdout",
     "output_type": "stream",
     "text": [
      "Train Loss: 0.1412 | Train Acc: 0.95\n",
      "Val Loss: 0.1384 | Val Acc: 0.96\n",
      "[EarlyStopping] Improved val_loss: 0.1384\n",
      "[INFO]: Best model updated\n",
      "Epoch 25/100\n",
      "--------------------------------------------------\n"
     ]
    },
    {
     "name": "stderr",
     "output_type": "stream",
     "text": [
      "Training: 100%|██████████| 72/72 [00:29<00:00,  2.46it/s]\n",
      "Validation: 100%|██████████| 18/18 [00:06<00:00,  2.97it/s]\n"
     ]
    },
    {
     "name": "stdout",
     "output_type": "stream",
     "text": [
      "Train Loss: 0.1451 | Train Acc: 0.95\n",
      "Val Loss: 0.1373 | Val Acc: 0.95\n",
      "[EarlyStopping] Improved val_loss: 0.1373\n",
      "[INFO]: Best model updated\n",
      "Epoch 26/100\n",
      "--------------------------------------------------\n"
     ]
    },
    {
     "name": "stderr",
     "output_type": "stream",
     "text": [
      "Training: 100%|██████████| 72/72 [00:29<00:00,  2.40it/s]\n",
      "Validation: 100%|██████████| 18/18 [00:06<00:00,  2.89it/s]\n"
     ]
    },
    {
     "name": "stdout",
     "output_type": "stream",
     "text": [
      "Train Loss: 0.1373 | Train Acc: 0.95\n",
      "Val Loss: 0.1353 | Val Acc: 0.96\n",
      "[EarlyStopping] Improved val_loss: 0.1353\n",
      "[INFO]: Best model updated\n",
      "Epoch 27/100\n",
      "--------------------------------------------------\n"
     ]
    },
    {
     "name": "stderr",
     "output_type": "stream",
     "text": [
      "Training: 100%|██████████| 72/72 [00:30<00:00,  2.39it/s]\n",
      "Validation: 100%|██████████| 18/18 [00:06<00:00,  2.88it/s]\n"
     ]
    },
    {
     "name": "stdout",
     "output_type": "stream",
     "text": [
      "Train Loss: 0.1388 | Train Acc: 0.95\n",
      "Val Loss: 0.1314 | Val Acc: 0.96\n",
      "[EarlyStopping] Improved val_loss: 0.1314\n",
      "[INFO]: Best model updated\n",
      "Epoch 28/100\n",
      "--------------------------------------------------\n"
     ]
    },
    {
     "name": "stderr",
     "output_type": "stream",
     "text": [
      "Training: 100%|██████████| 72/72 [00:30<00:00,  2.38it/s]\n",
      "Validation: 100%|██████████| 18/18 [00:05<00:00,  3.00it/s]\n"
     ]
    },
    {
     "name": "stdout",
     "output_type": "stream",
     "text": [
      "Train Loss: 0.1361 | Train Acc: 0.96\n",
      "Val Loss: 0.1303 | Val Acc: 0.96\n",
      "[EarlyStopping] Improved val_loss: 0.1303\n",
      "[INFO]: Best model updated\n",
      "Epoch 29/100\n",
      "--------------------------------------------------\n"
     ]
    },
    {
     "name": "stderr",
     "output_type": "stream",
     "text": [
      "Training: 100%|██████████| 72/72 [00:30<00:00,  2.39it/s]\n",
      "Validation: 100%|██████████| 18/18 [00:05<00:00,  3.03it/s]\n"
     ]
    },
    {
     "name": "stdout",
     "output_type": "stream",
     "text": [
      "Train Loss: 0.1270 | Train Acc: 0.96\n",
      "Val Loss: 0.1302 | Val Acc: 0.96\n",
      "[EarlyStopping] Improved val_loss: 0.1302\n",
      "[INFO]: Best model updated\n",
      "Epoch 30/100\n",
      "--------------------------------------------------\n"
     ]
    },
    {
     "name": "stderr",
     "output_type": "stream",
     "text": [
      "Training: 100%|██████████| 72/72 [00:30<00:00,  2.39it/s]\n",
      "Validation: 100%|██████████| 18/18 [00:05<00:00,  3.09it/s]\n"
     ]
    },
    {
     "name": "stdout",
     "output_type": "stream",
     "text": [
      "Train Loss: 0.1268 | Train Acc: 0.96\n",
      "Val Loss: 0.1279 | Val Acc: 0.96\n",
      "[EarlyStopping] Improved val_loss: 0.1279\n",
      "[INFO]: Best model updated\n",
      "Epoch 31/100\n",
      "--------------------------------------------------\n"
     ]
    },
    {
     "name": "stderr",
     "output_type": "stream",
     "text": [
      "Training: 100%|██████████| 72/72 [00:30<00:00,  2.38it/s]\n",
      "Validation: 100%|██████████| 18/18 [00:05<00:00,  3.08it/s]\n"
     ]
    },
    {
     "name": "stdout",
     "output_type": "stream",
     "text": [
      "Train Loss: 0.1304 | Train Acc: 0.96\n",
      "Val Loss: 0.1258 | Val Acc: 0.96\n",
      "[EarlyStopping] Improved val_loss: 0.1258\n",
      "[INFO]: Best model updated\n",
      "Epoch 32/100\n",
      "--------------------------------------------------\n"
     ]
    },
    {
     "name": "stderr",
     "output_type": "stream",
     "text": [
      "Training: 100%|██████████| 72/72 [00:30<00:00,  2.39it/s]\n",
      "Validation: 100%|██████████| 18/18 [00:05<00:00,  3.09it/s]\n"
     ]
    },
    {
     "name": "stdout",
     "output_type": "stream",
     "text": [
      "Train Loss: 0.1197 | Train Acc: 0.96\n",
      "Val Loss: 0.1256 | Val Acc: 0.96\n",
      "[EarlyStopping] Improved val_loss: 0.1256\n",
      "[INFO]: Best model updated\n",
      "Epoch 33/100\n",
      "--------------------------------------------------\n"
     ]
    },
    {
     "name": "stderr",
     "output_type": "stream",
     "text": [
      "Training: 100%|██████████| 72/72 [00:30<00:00,  2.38it/s]\n",
      "Validation: 100%|██████████| 18/18 [00:05<00:00,  3.05it/s]\n"
     ]
    },
    {
     "name": "stdout",
     "output_type": "stream",
     "text": [
      "Train Loss: 0.1287 | Train Acc: 0.95\n",
      "Val Loss: 0.1210 | Val Acc: 0.96\n",
      "[EarlyStopping] Improved val_loss: 0.1210\n",
      "[INFO]: Best model updated\n",
      "Epoch 34/100\n",
      "--------------------------------------------------\n"
     ]
    },
    {
     "name": "stderr",
     "output_type": "stream",
     "text": [
      "Training: 100%|██████████| 72/72 [00:30<00:00,  2.38it/s]\n",
      "Validation: 100%|██████████| 18/18 [00:05<00:00,  3.08it/s]\n"
     ]
    },
    {
     "name": "stdout",
     "output_type": "stream",
     "text": [
      "Train Loss: 0.1206 | Train Acc: 0.96\n",
      "Val Loss: 0.1226 | Val Acc: 0.96\n",
      "[EarlyStopping] No improvement in val_loss for 1/3 epochs.\n",
      "Epoch 35/100\n",
      "--------------------------------------------------\n"
     ]
    },
    {
     "name": "stderr",
     "output_type": "stream",
     "text": [
      "Training: 100%|██████████| 72/72 [00:30<00:00,  2.39it/s]\n",
      "Validation: 100%|██████████| 18/18 [00:05<00:00,  3.01it/s]\n"
     ]
    },
    {
     "name": "stdout",
     "output_type": "stream",
     "text": [
      "Train Loss: 0.1188 | Train Acc: 0.96\n",
      "Val Loss: 0.1183 | Val Acc: 0.96\n",
      "[EarlyStopping] Improved val_loss: 0.1183\n",
      "[INFO]: Best model updated\n",
      "Epoch 36/100\n",
      "--------------------------------------------------\n"
     ]
    },
    {
     "name": "stderr",
     "output_type": "stream",
     "text": [
      "Training: 100%|██████████| 72/72 [00:30<00:00,  2.40it/s]\n",
      "Validation: 100%|██████████| 18/18 [00:06<00:00,  2.92it/s]\n"
     ]
    },
    {
     "name": "stdout",
     "output_type": "stream",
     "text": [
      "Train Loss: 0.1148 | Train Acc: 0.96\n",
      "Val Loss: 0.1183 | Val Acc: 0.97\n",
      "[EarlyStopping] No improvement in val_loss for 1/3 epochs.\n",
      "Epoch 37/100\n",
      "--------------------------------------------------\n"
     ]
    },
    {
     "name": "stderr",
     "output_type": "stream",
     "text": [
      "Training: 100%|██████████| 72/72 [00:29<00:00,  2.43it/s]\n",
      "Validation: 100%|██████████| 18/18 [00:06<00:00,  2.88it/s]\n"
     ]
    },
    {
     "name": "stdout",
     "output_type": "stream",
     "text": [
      "Train Loss: 0.1156 | Train Acc: 0.96\n",
      "Val Loss: 0.1194 | Val Acc: 0.96\n",
      "[EarlyStopping] No improvement in val_loss for 2/3 epochs.\n",
      "Epoch 38/100\n",
      "--------------------------------------------------\n"
     ]
    },
    {
     "name": "stderr",
     "output_type": "stream",
     "text": [
      "Training: 100%|██████████| 72/72 [00:29<00:00,  2.41it/s]\n",
      "Validation: 100%|██████████| 18/18 [00:06<00:00,  2.86it/s]\n"
     ]
    },
    {
     "name": "stdout",
     "output_type": "stream",
     "text": [
      "Train Loss: 0.1147 | Train Acc: 0.96\n",
      "Val Loss: 0.1170 | Val Acc: 0.96\n",
      "[EarlyStopping] Improved val_loss: 0.1170\n",
      "[INFO]: Best model updated\n",
      "Epoch 39/100\n",
      "--------------------------------------------------\n"
     ]
    },
    {
     "name": "stderr",
     "output_type": "stream",
     "text": [
      "Training: 100%|██████████| 72/72 [00:29<00:00,  2.41it/s]\n",
      "Validation: 100%|██████████| 18/18 [00:06<00:00,  2.85it/s]\n"
     ]
    },
    {
     "name": "stdout",
     "output_type": "stream",
     "text": [
      "Train Loss: 0.1112 | Train Acc: 0.97\n",
      "Val Loss: 0.1155 | Val Acc: 0.96\n",
      "[EarlyStopping] Improved val_loss: 0.1155\n",
      "[INFO]: Best model updated\n",
      "Epoch 40/100\n",
      "--------------------------------------------------\n"
     ]
    },
    {
     "name": "stderr",
     "output_type": "stream",
     "text": [
      "Training: 100%|██████████| 72/72 [00:30<00:00,  2.39it/s]\n",
      "Validation: 100%|██████████| 18/18 [00:06<00:00,  2.85it/s]\n"
     ]
    },
    {
     "name": "stdout",
     "output_type": "stream",
     "text": [
      "Train Loss: 0.1169 | Train Acc: 0.96\n",
      "Val Loss: 0.1141 | Val Acc: 0.96\n",
      "[EarlyStopping] Improved val_loss: 0.1141\n",
      "[INFO]: Best model updated\n",
      "Epoch 41/100\n",
      "--------------------------------------------------\n"
     ]
    },
    {
     "name": "stderr",
     "output_type": "stream",
     "text": [
      "Training: 100%|██████████| 72/72 [00:30<00:00,  2.40it/s]\n",
      "Validation: 100%|██████████| 18/18 [00:06<00:00,  2.88it/s]\n"
     ]
    },
    {
     "name": "stdout",
     "output_type": "stream",
     "text": [
      "Train Loss: 0.1055 | Train Acc: 0.97\n",
      "Val Loss: 0.1145 | Val Acc: 0.97\n",
      "[EarlyStopping] No improvement in val_loss for 1/3 epochs.\n",
      "Epoch 42/100\n",
      "--------------------------------------------------\n"
     ]
    },
    {
     "name": "stderr",
     "output_type": "stream",
     "text": [
      "Training: 100%|██████████| 72/72 [00:29<00:00,  2.40it/s]\n",
      "Validation: 100%|██████████| 18/18 [00:06<00:00,  2.90it/s]\n"
     ]
    },
    {
     "name": "stdout",
     "output_type": "stream",
     "text": [
      "Train Loss: 0.1028 | Train Acc: 0.97\n",
      "Val Loss: 0.1131 | Val Acc: 0.97\n",
      "[EarlyStopping] Improved val_loss: 0.1131\n",
      "[INFO]: Best model updated\n",
      "Epoch 43/100\n",
      "--------------------------------------------------\n"
     ]
    },
    {
     "name": "stderr",
     "output_type": "stream",
     "text": [
      "Training: 100%|██████████| 72/72 [00:30<00:00,  2.37it/s]\n",
      "Validation: 100%|██████████| 18/18 [00:06<00:00,  2.91it/s]\n"
     ]
    },
    {
     "name": "stdout",
     "output_type": "stream",
     "text": [
      "Train Loss: 0.1059 | Train Acc: 0.97\n",
      "Val Loss: 0.1116 | Val Acc: 0.97\n",
      "[EarlyStopping] Improved val_loss: 0.1116\n",
      "[INFO]: Best model updated\n",
      "Epoch 44/100\n",
      "--------------------------------------------------\n"
     ]
    },
    {
     "name": "stderr",
     "output_type": "stream",
     "text": [
      "Training: 100%|██████████| 72/72 [00:30<00:00,  2.39it/s]\n",
      "Validation: 100%|██████████| 18/18 [00:06<00:00,  2.98it/s]\n"
     ]
    },
    {
     "name": "stdout",
     "output_type": "stream",
     "text": [
      "Train Loss: 0.1034 | Train Acc: 0.97\n",
      "Val Loss: 0.1103 | Val Acc: 0.97\n",
      "[EarlyStopping] Improved val_loss: 0.1103\n",
      "[INFO]: Best model updated\n",
      "Epoch 45/100\n",
      "--------------------------------------------------\n"
     ]
    },
    {
     "name": "stderr",
     "output_type": "stream",
     "text": [
      "Training: 100%|██████████| 72/72 [00:30<00:00,  2.38it/s]\n",
      "Validation: 100%|██████████| 18/18 [00:06<00:00,  2.98it/s]\n"
     ]
    },
    {
     "name": "stdout",
     "output_type": "stream",
     "text": [
      "Train Loss: 0.1054 | Train Acc: 0.96\n",
      "Val Loss: 0.1097 | Val Acc: 0.97\n",
      "[EarlyStopping] Improved val_loss: 0.1097\n",
      "[INFO]: Best model updated\n",
      "Epoch 46/100\n",
      "--------------------------------------------------\n"
     ]
    },
    {
     "name": "stderr",
     "output_type": "stream",
     "text": [
      "Training: 100%|██████████| 72/72 [00:30<00:00,  2.37it/s]\n",
      "Validation: 100%|██████████| 18/18 [00:05<00:00,  3.06it/s]\n"
     ]
    },
    {
     "name": "stdout",
     "output_type": "stream",
     "text": [
      "Train Loss: 0.1022 | Train Acc: 0.97\n",
      "Val Loss: 0.1086 | Val Acc: 0.97\n",
      "[EarlyStopping] Improved val_loss: 0.1086\n",
      "[INFO]: Best model updated\n",
      "Epoch 47/100\n",
      "--------------------------------------------------\n"
     ]
    },
    {
     "name": "stderr",
     "output_type": "stream",
     "text": [
      "Training: 100%|██████████| 72/72 [00:30<00:00,  2.35it/s]\n",
      "Validation: 100%|██████████| 18/18 [00:05<00:00,  3.09it/s]\n"
     ]
    },
    {
     "name": "stdout",
     "output_type": "stream",
     "text": [
      "Train Loss: 0.0969 | Train Acc: 0.97\n",
      "Val Loss: 0.1085 | Val Acc: 0.97\n",
      "[EarlyStopping] Improved val_loss: 0.1085\n",
      "[INFO]: Best model updated\n",
      "Epoch 48/100\n",
      "--------------------------------------------------\n"
     ]
    },
    {
     "name": "stderr",
     "output_type": "stream",
     "text": [
      "Training: 100%|██████████| 72/72 [00:30<00:00,  2.38it/s]\n",
      "Validation: 100%|██████████| 18/18 [00:05<00:00,  3.07it/s]\n"
     ]
    },
    {
     "name": "stdout",
     "output_type": "stream",
     "text": [
      "Train Loss: 0.0986 | Train Acc: 0.97\n",
      "Val Loss: 0.1088 | Val Acc: 0.97\n",
      "[EarlyStopping] No improvement in val_loss for 1/3 epochs.\n",
      "Epoch 49/100\n",
      "--------------------------------------------------\n"
     ]
    },
    {
     "name": "stderr",
     "output_type": "stream",
     "text": [
      "Training: 100%|██████████| 72/72 [00:30<00:00,  2.37it/s]\n",
      "Validation: 100%|██████████| 18/18 [00:05<00:00,  3.09it/s]\n"
     ]
    },
    {
     "name": "stdout",
     "output_type": "stream",
     "text": [
      "Train Loss: 0.0968 | Train Acc: 0.97\n",
      "Val Loss: 0.1102 | Val Acc: 0.97\n",
      "[EarlyStopping] No improvement in val_loss for 2/3 epochs.\n",
      "Epoch 50/100\n",
      "--------------------------------------------------\n"
     ]
    },
    {
     "name": "stderr",
     "output_type": "stream",
     "text": [
      "Training: 100%|██████████| 72/72 [00:30<00:00,  2.36it/s]\n",
      "Validation: 100%|██████████| 18/18 [00:05<00:00,  3.09it/s]\n"
     ]
    },
    {
     "name": "stdout",
     "output_type": "stream",
     "text": [
      "Train Loss: 0.0989 | Train Acc: 0.97\n",
      "Val Loss: 0.1068 | Val Acc: 0.97\n",
      "[EarlyStopping] Improved val_loss: 0.1068\n",
      "[INFO]: Best model updated\n",
      "Epoch 51/100\n",
      "--------------------------------------------------\n"
     ]
    },
    {
     "name": "stderr",
     "output_type": "stream",
     "text": [
      "Training: 100%|██████████| 72/72 [00:30<00:00,  2.37it/s]\n",
      "Validation: 100%|██████████| 18/18 [00:05<00:00,  3.06it/s]\n"
     ]
    },
    {
     "name": "stdout",
     "output_type": "stream",
     "text": [
      "Train Loss: 0.0948 | Train Acc: 0.97\n",
      "Val Loss: 0.1076 | Val Acc: 0.97\n",
      "[EarlyStopping] No improvement in val_loss for 1/3 epochs.\n",
      "Epoch 52/100\n",
      "--------------------------------------------------\n"
     ]
    },
    {
     "name": "stderr",
     "output_type": "stream",
     "text": [
      "Training: 100%|██████████| 72/72 [00:30<00:00,  2.36it/s]\n",
      "Validation: 100%|██████████| 18/18 [00:05<00:00,  3.08it/s]\n"
     ]
    },
    {
     "name": "stdout",
     "output_type": "stream",
     "text": [
      "Train Loss: 0.0944 | Train Acc: 0.97\n",
      "Val Loss: 0.1046 | Val Acc: 0.97\n",
      "[EarlyStopping] Improved val_loss: 0.1046\n",
      "[INFO]: Best model updated\n",
      "Epoch 53/100\n",
      "--------------------------------------------------\n"
     ]
    },
    {
     "name": "stderr",
     "output_type": "stream",
     "text": [
      "Training: 100%|██████████| 72/72 [00:30<00:00,  2.36it/s]\n",
      "Validation: 100%|██████████| 18/18 [00:05<00:00,  3.03it/s]\n"
     ]
    },
    {
     "name": "stdout",
     "output_type": "stream",
     "text": [
      "Train Loss: 0.1001 | Train Acc: 0.97\n",
      "Val Loss: 0.1050 | Val Acc: 0.97\n",
      "[EarlyStopping] No improvement in val_loss for 1/3 epochs.\n",
      "Epoch 54/100\n",
      "--------------------------------------------------\n"
     ]
    },
    {
     "name": "stderr",
     "output_type": "stream",
     "text": [
      "Training: 100%|██████████| 72/72 [00:29<00:00,  2.40it/s]\n",
      "Validation: 100%|██████████| 18/18 [00:06<00:00,  2.97it/s]\n"
     ]
    },
    {
     "name": "stdout",
     "output_type": "stream",
     "text": [
      "Train Loss: 0.0907 | Train Acc: 0.97\n",
      "Val Loss: 0.1053 | Val Acc: 0.97\n",
      "[EarlyStopping] No improvement in val_loss for 2/3 epochs.\n",
      "Epoch 55/100\n",
      "--------------------------------------------------\n"
     ]
    },
    {
     "name": "stderr",
     "output_type": "stream",
     "text": [
      "Training: 100%|██████████| 72/72 [00:29<00:00,  2.42it/s]\n",
      "Validation: 100%|██████████| 18/18 [00:06<00:00,  2.87it/s]"
     ]
    },
    {
     "name": "stdout",
     "output_type": "stream",
     "text": [
      "Train Loss: 0.0903 | Train Acc: 0.97\n",
      "Val Loss: 0.1047 | Val Acc: 0.97\n",
      "[EarlyStopping] No improvement in val_loss for 3/3 epochs.\n",
      "[EarlyStopping] Stopping training. Best val_loss: 0.1046\n",
      "[INFO]: Training Stopped by EarlyStopping\n",
      "[INFO]: Best Model Loaded\n"
     ]
    },
    {
     "name": "stderr",
     "output_type": "stream",
     "text": [
      "\n"
     ]
    }
   ],
   "source": [
    "# Save initial model weights and set best validation loss to infinity\n",
    "best_model_wts = copy.deepcopy(model.state_dict())\n",
    "best_val_loss = np.inf\n",
    "\n",
    "num_epoch = 100\n",
    "\n",
    "for epoch in range(num_epoch):\n",
    "  print(f\"Epoch {epoch+1}/{num_epoch}\")\n",
    "  print(\"-\" * 50)\n",
    "\n",
    "  # --- training Phase ---\n",
    "  model.train()\n",
    "  train_loss, correct, total = 0.0, 0, 0\n",
    "\n",
    "  for images, labels in tqdm(train_loader, desc=\"Training\"):\n",
    "    images, labels = images.to(device), labels.to(device)\n",
    "\n",
    "    ft_optimizer.zero_grad()\n",
    "    outputs = model(images)\n",
    "    loss = crieterion(outputs, labels)\n",
    "    loss.backward()\n",
    "    ft_optimizer.step()\n",
    "\n",
    "    train_loss += loss.item() * images.size(0)\n",
    "    _, predicted = torch.max(outputs, dim=1)\n",
    "    correct += (predicted == labels).sum().item()\n",
    "    total += labels.size(0)\n",
    "\n",
    "  avg_train_loss = train_loss / total\n",
    "  train_acc = correct / total\n",
    "\n",
    "  # --- Validation Phase ---\n",
    "  model.eval()\n",
    "  val_loss, correct, total = 0.0, 0, 0\n",
    "\n",
    "  with torch.no_grad():\n",
    "    for images, labels in tqdm(val_loader, desc=\"Validation\"):\n",
    "        images, labels = images.to(device), labels.to(device)\n",
    "\n",
    "        outputs = model(images)\n",
    "        loss = crieterion(outputs, labels)\n",
    "\n",
    "        val_loss += loss.item() * images.size(0)\n",
    "        _, predicted = torch.max(outputs, dim=1)\n",
    "        correct += (predicted == labels).sum().item()\n",
    "        total += labels.size(0)\n",
    "\n",
    "  avg_val_loss = val_loss / total\n",
    "  val_acc = correct / total\n",
    "\n",
    "  print(f\"Train Loss: {avg_train_loss:.4f} | Train Acc: {train_acc:.2f}\")\n",
    "  print(f\"Val Loss: {avg_val_loss:.4f} | Val Acc: {val_acc:.2f}\")\n",
    "\n",
    "  scheduler_ft.step(avg_val_loss)\n",
    "  early_stopping(avg_val_loss)\n",
    "\n",
    "  if avg_val_loss < best_val_loss:\n",
    "    best_val_loss = avg_val_loss\n",
    "    best_model_wts = copy.deepcopy(model.state_dict())\n",
    "    torch.save(model.state_dict(), 'mct_best_model.pth')\n",
    "    print(f\"[INFO]: Best model updated\")\n",
    "\n",
    "  if early_stopping.early_stop:\n",
    "    print(f\"[INFO]: Training Stopped by EarlyStopping\")\n",
    "    break\n",
    "\n",
    "model.load_state_dict(best_model_wts)\n",
    "print(\"[INFO]: Best Model Loaded\")\n",
    "\n"
   ]
  },
  {
   "cell_type": "markdown",
   "metadata": {
    "id": "BbBr-YoGZvWv"
   },
   "source": [
    "## 8. Save Final Model\n",
    "\n",
    "After fine-tuning, the best-performing model (based on validation loss) is saved using `torch.save()`. This ensures that the most generalizable version of the model is preserved for deployment or further evaluation.\n",
    "\n",
    "For privacy and reproducibility, the model is uploaded to Hugging Face Hub instead of being stored in a local path. The download link or model reference will be provided in the project source files.\n",
    "\n",
    "**Model location**: Refer to the model card or config file in the `src/` directory.\n"
   ]
  },
  {
   "cell_type": "code",
   "execution_count": null,
   "metadata": {
    "colab": {
     "base_uri": "https://localhost:8080/"
    },
    "executionInfo": {
     "elapsed": 22840,
     "status": "ok",
     "timestamp": 1751048885607,
     "user": {
      "displayName": "M lutfi H Azzam",
      "userId": "10455614359958764409"
     },
     "user_tz": -420
    },
    "id": "PLBORnO1ogG5",
    "outputId": "d2c5fe99-600e-4b90-ca70-5ffa6aeee776"
   },
   "outputs": [
    {
     "name": "stdout",
     "output_type": "stream",
     "text": [
      "Mounted at /content/drive\n"
     ]
    }
   ],
   "source": [
    "from google.colab import drive\n",
    "drive.mount('/content/drive')"
   ]
  },
  {
   "cell_type": "code",
   "execution_count": null,
   "metadata": {
    "id": "AZHjcso7pTqq"
   },
   "outputs": [],
   "source": [
    "torch.save(model.state_dict(), '/path/to/your/drive')"
   ]
  },
  {
   "cell_type": "markdown",
   "metadata": {
    "id": "03HKlS0epz17"
   },
   "source": [
    "## 📌 Conclusion\n",
    "\n",
    "Expanding on the previous binary classification task, this notebook addresses a more nuanced challenge: **classifying brain MRI scans into four distinct tumor types**.\n",
    "\n",
    "While the underlying architecture and training strategy — including **transfer learning**, **data augmentation**, and **fine-tuning** — remain consistent with the earlier approach, the multiclass setting introduces additional complexity. These include more intricate **decision boundaries**, **inter-class imbalance**, and the need for more **robust evaluation**.\n",
    "\n",
    "Working through this project strengthened my understanding of **model scalability**, **multi-class loss handling**, and the practical limitations of generalization in medical image classification.\n",
    "\n",
    "This notebook reflects an important step in moving from foundational experimentation toward more sophisticated deep learning pipelines that are structured, reproducible, and scalable.\n",
    "\n",
    "> 💡 Together with the binary version, this project forms a continuous learning track that builds intuition, confidence, and capability in applying computer vision to real-world medical challenges.\n"
   ]
  }
 ],
 "metadata": {
  "accelerator": "GPU",
  "colab": {
   "authorship_tag": "ABX9TyNgQpKlZdkudTlroiMJV6wy",
   "gpuType": "T4",
   "provenance": []
  },
  "kernelspec": {
   "display_name": "Python 3",
   "name": "python3"
  },
  "language_info": {
   "name": "python"
  },
  "widgets": {
   "application/vnd.jupyter.widget-state+json": {
    "0543822d1fed4ceba70c3b7e074a84be": {
     "model_module": "@jupyter-widgets/base",
     "model_module_version": "1.2.0",
     "model_name": "LayoutModel",
     "state": {
      "_model_module": "@jupyter-widgets/base",
      "_model_module_version": "1.2.0",
      "_model_name": "LayoutModel",
      "_view_count": null,
      "_view_module": "@jupyter-widgets/base",
      "_view_module_version": "1.2.0",
      "_view_name": "LayoutView",
      "align_content": null,
      "align_items": null,
      "align_self": null,
      "border": null,
      "bottom": null,
      "display": null,
      "flex": null,
      "flex_flow": null,
      "grid_area": null,
      "grid_auto_columns": null,
      "grid_auto_flow": null,
      "grid_auto_rows": null,
      "grid_column": null,
      "grid_gap": null,
      "grid_row": null,
      "grid_template_areas": null,
      "grid_template_columns": null,
      "grid_template_rows": null,
      "height": null,
      "justify_content": null,
      "justify_items": null,
      "left": null,
      "margin": null,
      "max_height": null,
      "max_width": null,
      "min_height": null,
      "min_width": null,
      "object_fit": null,
      "object_position": null,
      "order": null,
      "overflow": null,
      "overflow_x": null,
      "overflow_y": null,
      "padding": null,
      "right": null,
      "top": null,
      "visibility": null,
      "width": null
     }
    },
    "0872c8c7747a40c9b22553b4973c66a7": {
     "model_module": "@jupyter-widgets/controls",
     "model_module_version": "1.5.0",
     "model_name": "ProgressStyleModel",
     "state": {
      "_model_module": "@jupyter-widgets/controls",
      "_model_module_version": "1.5.0",
      "_model_name": "ProgressStyleModel",
      "_view_count": null,
      "_view_module": "@jupyter-widgets/base",
      "_view_module_version": "1.2.0",
      "_view_name": "StyleView",
      "bar_color": null,
      "description_width": ""
     }
    },
    "10bd085faa8d4d359259cfa331d4a86c": {
     "model_module": "@jupyter-widgets/controls",
     "model_module_version": "1.5.0",
     "model_name": "ProgressStyleModel",
     "state": {
      "_model_module": "@jupyter-widgets/controls",
      "_model_module_version": "1.5.0",
      "_model_name": "ProgressStyleModel",
      "_view_count": null,
      "_view_module": "@jupyter-widgets/base",
      "_view_module_version": "1.2.0",
      "_view_name": "StyleView",
      "bar_color": null,
      "description_width": ""
     }
    },
    "118790a28d30417b84df0501c6e19130": {
     "model_module": "@jupyter-widgets/controls",
     "model_module_version": "1.5.0",
     "model_name": "DescriptionStyleModel",
     "state": {
      "_model_module": "@jupyter-widgets/controls",
      "_model_module_version": "1.5.0",
      "_model_name": "DescriptionStyleModel",
      "_view_count": null,
      "_view_module": "@jupyter-widgets/base",
      "_view_module_version": "1.2.0",
      "_view_name": "StyleView",
      "description_width": ""
     }
    },
    "203ffcb5c21240dcbdc32fc40c605cbf": {
     "model_module": "@jupyter-widgets/controls",
     "model_module_version": "1.5.0",
     "model_name": "ProgressStyleModel",
     "state": {
      "_model_module": "@jupyter-widgets/controls",
      "_model_module_version": "1.5.0",
      "_model_name": "ProgressStyleModel",
      "_view_count": null,
      "_view_module": "@jupyter-widgets/base",
      "_view_module_version": "1.2.0",
      "_view_name": "StyleView",
      "bar_color": null,
      "description_width": ""
     }
    },
    "2744a22fe8394e9993e0323748729800": {
     "model_module": "@jupyter-widgets/base",
     "model_module_version": "1.2.0",
     "model_name": "LayoutModel",
     "state": {
      "_model_module": "@jupyter-widgets/base",
      "_model_module_version": "1.2.0",
      "_model_name": "LayoutModel",
      "_view_count": null,
      "_view_module": "@jupyter-widgets/base",
      "_view_module_version": "1.2.0",
      "_view_name": "LayoutView",
      "align_content": null,
      "align_items": null,
      "align_self": null,
      "border": null,
      "bottom": null,
      "display": null,
      "flex": null,
      "flex_flow": null,
      "grid_area": null,
      "grid_auto_columns": null,
      "grid_auto_flow": null,
      "grid_auto_rows": null,
      "grid_column": null,
      "grid_gap": null,
      "grid_row": null,
      "grid_template_areas": null,
      "grid_template_columns": null,
      "grid_template_rows": null,
      "height": null,
      "justify_content": null,
      "justify_items": null,
      "left": null,
      "margin": null,
      "max_height": null,
      "max_width": null,
      "min_height": null,
      "min_width": null,
      "object_fit": null,
      "object_position": null,
      "order": null,
      "overflow": null,
      "overflow_x": null,
      "overflow_y": null,
      "padding": null,
      "right": null,
      "top": null,
      "visibility": null,
      "width": null
     }
    },
    "32e9dfa142b44dc69b9809012652c617": {
     "model_module": "@jupyter-widgets/controls",
     "model_module_version": "1.5.0",
     "model_name": "DescriptionStyleModel",
     "state": {
      "_model_module": "@jupyter-widgets/controls",
      "_model_module_version": "1.5.0",
      "_model_name": "DescriptionStyleModel",
      "_view_count": null,
      "_view_module": "@jupyter-widgets/base",
      "_view_module_version": "1.2.0",
      "_view_name": "StyleView",
      "description_width": ""
     }
    },
    "357267ebbc724bb7aedd50a3afba76d1": {
     "model_module": "@jupyter-widgets/base",
     "model_module_version": "1.2.0",
     "model_name": "LayoutModel",
     "state": {
      "_model_module": "@jupyter-widgets/base",
      "_model_module_version": "1.2.0",
      "_model_name": "LayoutModel",
      "_view_count": null,
      "_view_module": "@jupyter-widgets/base",
      "_view_module_version": "1.2.0",
      "_view_name": "LayoutView",
      "align_content": null,
      "align_items": null,
      "align_self": null,
      "border": null,
      "bottom": null,
      "display": null,
      "flex": null,
      "flex_flow": null,
      "grid_area": null,
      "grid_auto_columns": null,
      "grid_auto_flow": null,
      "grid_auto_rows": null,
      "grid_column": null,
      "grid_gap": null,
      "grid_row": null,
      "grid_template_areas": null,
      "grid_template_columns": null,
      "grid_template_rows": null,
      "height": null,
      "justify_content": null,
      "justify_items": null,
      "left": null,
      "margin": null,
      "max_height": null,
      "max_width": null,
      "min_height": null,
      "min_width": null,
      "object_fit": null,
      "object_position": null,
      "order": null,
      "overflow": null,
      "overflow_x": null,
      "overflow_y": null,
      "padding": null,
      "right": null,
      "top": null,
      "visibility": null,
      "width": null
     }
    },
    "3b738faeee164e7f8d5f366fbfc0d39d": {
     "model_module": "@jupyter-widgets/base",
     "model_module_version": "1.2.0",
     "model_name": "LayoutModel",
     "state": {
      "_model_module": "@jupyter-widgets/base",
      "_model_module_version": "1.2.0",
      "_model_name": "LayoutModel",
      "_view_count": null,
      "_view_module": "@jupyter-widgets/base",
      "_view_module_version": "1.2.0",
      "_view_name": "LayoutView",
      "align_content": null,
      "align_items": null,
      "align_self": null,
      "border": null,
      "bottom": null,
      "display": null,
      "flex": null,
      "flex_flow": null,
      "grid_area": null,
      "grid_auto_columns": null,
      "grid_auto_flow": null,
      "grid_auto_rows": null,
      "grid_column": null,
      "grid_gap": null,
      "grid_row": null,
      "grid_template_areas": null,
      "grid_template_columns": null,
      "grid_template_rows": null,
      "height": null,
      "justify_content": null,
      "justify_items": null,
      "left": null,
      "margin": null,
      "max_height": null,
      "max_width": null,
      "min_height": null,
      "min_width": null,
      "object_fit": null,
      "object_position": null,
      "order": null,
      "overflow": null,
      "overflow_x": null,
      "overflow_y": null,
      "padding": null,
      "right": null,
      "top": null,
      "visibility": null,
      "width": null
     }
    },
    "3c97320120f840d5aa6d9344bef0b2c8": {
     "model_module": "@jupyter-widgets/controls",
     "model_module_version": "1.5.0",
     "model_name": "HTMLModel",
     "state": {
      "_dom_classes": [],
      "_model_module": "@jupyter-widgets/controls",
      "_model_module_version": "1.5.0",
      "_model_name": "HTMLModel",
      "_view_count": null,
      "_view_module": "@jupyter-widgets/controls",
      "_view_module_version": "1.5.0",
      "_view_name": "HTMLView",
      "description": "",
      "description_tooltip": null,
      "layout": "IPY_MODEL_9e62d333d2e44590a99114302d9edea2",
      "placeholder": "​",
      "style": "IPY_MODEL_999fccd1aaf7435491737ab184bb297d",
      "value": "multiclass/test-00000-of-00001.parquet: 100%"
     }
    },
    "3d6bdff487a14dd892ebcfbba3d573b6": {
     "model_module": "@jupyter-widgets/base",
     "model_module_version": "1.2.0",
     "model_name": "LayoutModel",
     "state": {
      "_model_module": "@jupyter-widgets/base",
      "_model_module_version": "1.2.0",
      "_model_name": "LayoutModel",
      "_view_count": null,
      "_view_module": "@jupyter-widgets/base",
      "_view_module_version": "1.2.0",
      "_view_name": "LayoutView",
      "align_content": null,
      "align_items": null,
      "align_self": null,
      "border": null,
      "bottom": null,
      "display": null,
      "flex": null,
      "flex_flow": null,
      "grid_area": null,
      "grid_auto_columns": null,
      "grid_auto_flow": null,
      "grid_auto_rows": null,
      "grid_column": null,
      "grid_gap": null,
      "grid_row": null,
      "grid_template_areas": null,
      "grid_template_columns": null,
      "grid_template_rows": null,
      "height": null,
      "justify_content": null,
      "justify_items": null,
      "left": null,
      "margin": null,
      "max_height": null,
      "max_width": null,
      "min_height": null,
      "min_width": null,
      "object_fit": null,
      "object_position": null,
      "order": null,
      "overflow": null,
      "overflow_x": null,
      "overflow_y": null,
      "padding": null,
      "right": null,
      "top": null,
      "visibility": null,
      "width": null
     }
    },
    "3edce68979ea468788626b2c67f0773f": {
     "model_module": "@jupyter-widgets/base",
     "model_module_version": "1.2.0",
     "model_name": "LayoutModel",
     "state": {
      "_model_module": "@jupyter-widgets/base",
      "_model_module_version": "1.2.0",
      "_model_name": "LayoutModel",
      "_view_count": null,
      "_view_module": "@jupyter-widgets/base",
      "_view_module_version": "1.2.0",
      "_view_name": "LayoutView",
      "align_content": null,
      "align_items": null,
      "align_self": null,
      "border": null,
      "bottom": null,
      "display": null,
      "flex": null,
      "flex_flow": null,
      "grid_area": null,
      "grid_auto_columns": null,
      "grid_auto_flow": null,
      "grid_auto_rows": null,
      "grid_column": null,
      "grid_gap": null,
      "grid_row": null,
      "grid_template_areas": null,
      "grid_template_columns": null,
      "grid_template_rows": null,
      "height": null,
      "justify_content": null,
      "justify_items": null,
      "left": null,
      "margin": null,
      "max_height": null,
      "max_width": null,
      "min_height": null,
      "min_width": null,
      "object_fit": null,
      "object_position": null,
      "order": null,
      "overflow": null,
      "overflow_x": null,
      "overflow_y": null,
      "padding": null,
      "right": null,
      "top": null,
      "visibility": null,
      "width": null
     }
    },
    "46cb7a0ab3584de58b106f3b3f95d1e1": {
     "model_module": "@jupyter-widgets/controls",
     "model_module_version": "1.5.0",
     "model_name": "HBoxModel",
     "state": {
      "_dom_classes": [],
      "_model_module": "@jupyter-widgets/controls",
      "_model_module_version": "1.5.0",
      "_model_name": "HBoxModel",
      "_view_count": null,
      "_view_module": "@jupyter-widgets/controls",
      "_view_module_version": "1.5.0",
      "_view_name": "HBoxView",
      "box_style": "",
      "children": [
       "IPY_MODEL_519f4a99d9e046628bd28270d191fa75",
       "IPY_MODEL_f048350fa6e04ca58d76f4b14b700198",
       "IPY_MODEL_e50451c2ee7a44a5b504318b76682a4a"
      ],
      "layout": "IPY_MODEL_c7771c36bfbe46a49f5fae38ae1bc9ae"
     }
    },
    "4c8bac3455714be892ef4df86d2fe04f": {
     "model_module": "@jupyter-widgets/controls",
     "model_module_version": "1.5.0",
     "model_name": "HTMLModel",
     "state": {
      "_dom_classes": [],
      "_model_module": "@jupyter-widgets/controls",
      "_model_module_version": "1.5.0",
      "_model_name": "HTMLModel",
      "_view_count": null,
      "_view_module": "@jupyter-widgets/controls",
      "_view_module_version": "1.5.0",
      "_view_name": "HTMLView",
      "description": "",
      "description_tooltip": null,
      "layout": "IPY_MODEL_2744a22fe8394e9993e0323748729800",
      "placeholder": "​",
      "style": "IPY_MODEL_96cf7ebe7d32402bae30143f5f326ed4",
      "value": "Generating train split: 100%"
     }
    },
    "519f4a99d9e046628bd28270d191fa75": {
     "model_module": "@jupyter-widgets/controls",
     "model_module_version": "1.5.0",
     "model_name": "HTMLModel",
     "state": {
      "_dom_classes": [],
      "_model_module": "@jupyter-widgets/controls",
      "_model_module_version": "1.5.0",
      "_model_name": "HTMLModel",
      "_view_count": null,
      "_view_module": "@jupyter-widgets/controls",
      "_view_module_version": "1.5.0",
      "_view_name": "HTMLView",
      "description": "",
      "description_tooltip": null,
      "layout": "IPY_MODEL_3d6bdff487a14dd892ebcfbba3d573b6",
      "placeholder": "​",
      "style": "IPY_MODEL_a4b54d9c3b57447c9ee821c675ba12c6",
      "value": "Generating test split: 100%"
     }
    },
    "56d5506d0aa445a08b453c8f72636354": {
     "model_module": "@jupyter-widgets/base",
     "model_module_version": "1.2.0",
     "model_name": "LayoutModel",
     "state": {
      "_model_module": "@jupyter-widgets/base",
      "_model_module_version": "1.2.0",
      "_model_name": "LayoutModel",
      "_view_count": null,
      "_view_module": "@jupyter-widgets/base",
      "_view_module_version": "1.2.0",
      "_view_name": "LayoutView",
      "align_content": null,
      "align_items": null,
      "align_self": null,
      "border": null,
      "bottom": null,
      "display": null,
      "flex": null,
      "flex_flow": null,
      "grid_area": null,
      "grid_auto_columns": null,
      "grid_auto_flow": null,
      "grid_auto_rows": null,
      "grid_column": null,
      "grid_gap": null,
      "grid_row": null,
      "grid_template_areas": null,
      "grid_template_columns": null,
      "grid_template_rows": null,
      "height": null,
      "justify_content": null,
      "justify_items": null,
      "left": null,
      "margin": null,
      "max_height": null,
      "max_width": null,
      "min_height": null,
      "min_width": null,
      "object_fit": null,
      "object_position": null,
      "order": null,
      "overflow": null,
      "overflow_x": null,
      "overflow_y": null,
      "padding": null,
      "right": null,
      "top": null,
      "visibility": null,
      "width": null
     }
    },
    "5bca0a0f1dd84b45801ef52834330b7e": {
     "model_module": "@jupyter-widgets/controls",
     "model_module_version": "1.5.0",
     "model_name": "HBoxModel",
     "state": {
      "_dom_classes": [],
      "_model_module": "@jupyter-widgets/controls",
      "_model_module_version": "1.5.0",
      "_model_name": "HBoxModel",
      "_view_count": null,
      "_view_module": "@jupyter-widgets/controls",
      "_view_module_version": "1.5.0",
      "_view_name": "HBoxView",
      "box_style": "",
      "children": [
       "IPY_MODEL_9b82995379b44bd7866e4d708044edee",
       "IPY_MODEL_c8191815e7f34c63afbb49d7557fcbd7",
       "IPY_MODEL_7c4c443276de4418847d6215906c30ad"
      ],
      "layout": "IPY_MODEL_d459ab31e18c47c89a874329247ed823"
     }
    },
    "5bfef388076d47518d2d6f17fefd1d05": {
     "model_module": "@jupyter-widgets/base",
     "model_module_version": "1.2.0",
     "model_name": "LayoutModel",
     "state": {
      "_model_module": "@jupyter-widgets/base",
      "_model_module_version": "1.2.0",
      "_model_name": "LayoutModel",
      "_view_count": null,
      "_view_module": "@jupyter-widgets/base",
      "_view_module_version": "1.2.0",
      "_view_name": "LayoutView",
      "align_content": null,
      "align_items": null,
      "align_self": null,
      "border": null,
      "bottom": null,
      "display": null,
      "flex": null,
      "flex_flow": null,
      "grid_area": null,
      "grid_auto_columns": null,
      "grid_auto_flow": null,
      "grid_auto_rows": null,
      "grid_column": null,
      "grid_gap": null,
      "grid_row": null,
      "grid_template_areas": null,
      "grid_template_columns": null,
      "grid_template_rows": null,
      "height": null,
      "justify_content": null,
      "justify_items": null,
      "left": null,
      "margin": null,
      "max_height": null,
      "max_width": null,
      "min_height": null,
      "min_width": null,
      "object_fit": null,
      "object_position": null,
      "order": null,
      "overflow": null,
      "overflow_x": null,
      "overflow_y": null,
      "padding": null,
      "right": null,
      "top": null,
      "visibility": null,
      "width": null
     }
    },
    "6235cb6a74d042db83d4f67937b5a2fb": {
     "model_module": "@jupyter-widgets/controls",
     "model_module_version": "1.5.0",
     "model_name": "HBoxModel",
     "state": {
      "_dom_classes": [],
      "_model_module": "@jupyter-widgets/controls",
      "_model_module_version": "1.5.0",
      "_model_name": "HBoxModel",
      "_view_count": null,
      "_view_module": "@jupyter-widgets/controls",
      "_view_module_version": "1.5.0",
      "_view_name": "HBoxView",
      "box_style": "",
      "children": [
       "IPY_MODEL_4c8bac3455714be892ef4df86d2fe04f",
       "IPY_MODEL_8ab4d94c67eb4f75b24d61c3326ba95a",
       "IPY_MODEL_be3a2fe8e7e241b889ade12ebba02544"
      ],
      "layout": "IPY_MODEL_56d5506d0aa445a08b453c8f72636354"
     }
    },
    "655e09c4d0c3418fb8d6bb3a1b7704f8": {
     "model_module": "@jupyter-widgets/controls",
     "model_module_version": "1.5.0",
     "model_name": "DescriptionStyleModel",
     "state": {
      "_model_module": "@jupyter-widgets/controls",
      "_model_module_version": "1.5.0",
      "_model_name": "DescriptionStyleModel",
      "_view_count": null,
      "_view_module": "@jupyter-widgets/base",
      "_view_module_version": "1.2.0",
      "_view_name": "StyleView",
      "description_width": ""
     }
    },
    "6a1b608646e54f04a88007bbf1b82f26": {
     "model_module": "@jupyter-widgets/base",
     "model_module_version": "1.2.0",
     "model_name": "LayoutModel",
     "state": {
      "_model_module": "@jupyter-widgets/base",
      "_model_module_version": "1.2.0",
      "_model_name": "LayoutModel",
      "_view_count": null,
      "_view_module": "@jupyter-widgets/base",
      "_view_module_version": "1.2.0",
      "_view_name": "LayoutView",
      "align_content": null,
      "align_items": null,
      "align_self": null,
      "border": null,
      "bottom": null,
      "display": null,
      "flex": null,
      "flex_flow": null,
      "grid_area": null,
      "grid_auto_columns": null,
      "grid_auto_flow": null,
      "grid_auto_rows": null,
      "grid_column": null,
      "grid_gap": null,
      "grid_row": null,
      "grid_template_areas": null,
      "grid_template_columns": null,
      "grid_template_rows": null,
      "height": null,
      "justify_content": null,
      "justify_items": null,
      "left": null,
      "margin": null,
      "max_height": null,
      "max_width": null,
      "min_height": null,
      "min_width": null,
      "object_fit": null,
      "object_position": null,
      "order": null,
      "overflow": null,
      "overflow_x": null,
      "overflow_y": null,
      "padding": null,
      "right": null,
      "top": null,
      "visibility": null,
      "width": null
     }
    },
    "6e86b7aae1d342828a39fdd63756cf98": {
     "model_module": "@jupyter-widgets/base",
     "model_module_version": "1.2.0",
     "model_name": "LayoutModel",
     "state": {
      "_model_module": "@jupyter-widgets/base",
      "_model_module_version": "1.2.0",
      "_model_name": "LayoutModel",
      "_view_count": null,
      "_view_module": "@jupyter-widgets/base",
      "_view_module_version": "1.2.0",
      "_view_name": "LayoutView",
      "align_content": null,
      "align_items": null,
      "align_self": null,
      "border": null,
      "bottom": null,
      "display": null,
      "flex": null,
      "flex_flow": null,
      "grid_area": null,
      "grid_auto_columns": null,
      "grid_auto_flow": null,
      "grid_auto_rows": null,
      "grid_column": null,
      "grid_gap": null,
      "grid_row": null,
      "grid_template_areas": null,
      "grid_template_columns": null,
      "grid_template_rows": null,
      "height": null,
      "justify_content": null,
      "justify_items": null,
      "left": null,
      "margin": null,
      "max_height": null,
      "max_width": null,
      "min_height": null,
      "min_width": null,
      "object_fit": null,
      "object_position": null,
      "order": null,
      "overflow": null,
      "overflow_x": null,
      "overflow_y": null,
      "padding": null,
      "right": null,
      "top": null,
      "visibility": null,
      "width": null
     }
    },
    "702d271442ef4832a334c726e8c0a35b": {
     "model_module": "@jupyter-widgets/base",
     "model_module_version": "1.2.0",
     "model_name": "LayoutModel",
     "state": {
      "_model_module": "@jupyter-widgets/base",
      "_model_module_version": "1.2.0",
      "_model_name": "LayoutModel",
      "_view_count": null,
      "_view_module": "@jupyter-widgets/base",
      "_view_module_version": "1.2.0",
      "_view_name": "LayoutView",
      "align_content": null,
      "align_items": null,
      "align_self": null,
      "border": null,
      "bottom": null,
      "display": null,
      "flex": null,
      "flex_flow": null,
      "grid_area": null,
      "grid_auto_columns": null,
      "grid_auto_flow": null,
      "grid_auto_rows": null,
      "grid_column": null,
      "grid_gap": null,
      "grid_row": null,
      "grid_template_areas": null,
      "grid_template_columns": null,
      "grid_template_rows": null,
      "height": null,
      "justify_content": null,
      "justify_items": null,
      "left": null,
      "margin": null,
      "max_height": null,
      "max_width": null,
      "min_height": null,
      "min_width": null,
      "object_fit": null,
      "object_position": null,
      "order": null,
      "overflow": null,
      "overflow_x": null,
      "overflow_y": null,
      "padding": null,
      "right": null,
      "top": null,
      "visibility": null,
      "width": null
     }
    },
    "7361bf6a8d6240f08804bca2a2658eb7": {
     "model_module": "@jupyter-widgets/controls",
     "model_module_version": "1.5.0",
     "model_name": "HTMLModel",
     "state": {
      "_dom_classes": [],
      "_model_module": "@jupyter-widgets/controls",
      "_model_module_version": "1.5.0",
      "_model_name": "HTMLModel",
      "_view_count": null,
      "_view_module": "@jupyter-widgets/controls",
      "_view_module_version": "1.5.0",
      "_view_name": "HTMLView",
      "description": "",
      "description_tooltip": null,
      "layout": "IPY_MODEL_81691bbd97a84a14a72e0430c1430efd",
      "placeholder": "​",
      "style": "IPY_MODEL_9b810016ba274cd6ad70c94ade55b87f",
      "value": " 25.6M/25.6M [00:02&lt;00:00, 11.6MB/s]"
     }
    },
    "7528de23f652458f8a78b2fa3fa417a1": {
     "model_module": "@jupyter-widgets/base",
     "model_module_version": "1.2.0",
     "model_name": "LayoutModel",
     "state": {
      "_model_module": "@jupyter-widgets/base",
      "_model_module_version": "1.2.0",
      "_model_name": "LayoutModel",
      "_view_count": null,
      "_view_module": "@jupyter-widgets/base",
      "_view_module_version": "1.2.0",
      "_view_name": "LayoutView",
      "align_content": null,
      "align_items": null,
      "align_self": null,
      "border": null,
      "bottom": null,
      "display": null,
      "flex": null,
      "flex_flow": null,
      "grid_area": null,
      "grid_auto_columns": null,
      "grid_auto_flow": null,
      "grid_auto_rows": null,
      "grid_column": null,
      "grid_gap": null,
      "grid_row": null,
      "grid_template_areas": null,
      "grid_template_columns": null,
      "grid_template_rows": null,
      "height": null,
      "justify_content": null,
      "justify_items": null,
      "left": null,
      "margin": null,
      "max_height": null,
      "max_width": null,
      "min_height": null,
      "min_width": null,
      "object_fit": null,
      "object_position": null,
      "order": null,
      "overflow": null,
      "overflow_x": null,
      "overflow_y": null,
      "padding": null,
      "right": null,
      "top": null,
      "visibility": null,
      "width": null
     }
    },
    "78ccca2c3e5641149f2c9ad80e7cbc6b": {
     "model_module": "@jupyter-widgets/base",
     "model_module_version": "1.2.0",
     "model_name": "LayoutModel",
     "state": {
      "_model_module": "@jupyter-widgets/base",
      "_model_module_version": "1.2.0",
      "_model_name": "LayoutModel",
      "_view_count": null,
      "_view_module": "@jupyter-widgets/base",
      "_view_module_version": "1.2.0",
      "_view_name": "LayoutView",
      "align_content": null,
      "align_items": null,
      "align_self": null,
      "border": null,
      "bottom": null,
      "display": null,
      "flex": null,
      "flex_flow": null,
      "grid_area": null,
      "grid_auto_columns": null,
      "grid_auto_flow": null,
      "grid_auto_rows": null,
      "grid_column": null,
      "grid_gap": null,
      "grid_row": null,
      "grid_template_areas": null,
      "grid_template_columns": null,
      "grid_template_rows": null,
      "height": null,
      "justify_content": null,
      "justify_items": null,
      "left": null,
      "margin": null,
      "max_height": null,
      "max_width": null,
      "min_height": null,
      "min_width": null,
      "object_fit": null,
      "object_position": null,
      "order": null,
      "overflow": null,
      "overflow_x": null,
      "overflow_y": null,
      "padding": null,
      "right": null,
      "top": null,
      "visibility": null,
      "width": null
     }
    },
    "7c4c443276de4418847d6215906c30ad": {
     "model_module": "@jupyter-widgets/controls",
     "model_module_version": "1.5.0",
     "model_name": "HTMLModel",
     "state": {
      "_dom_classes": [],
      "_model_module": "@jupyter-widgets/controls",
      "_model_module_version": "1.5.0",
      "_model_name": "HTMLModel",
      "_view_count": null,
      "_view_module": "@jupyter-widgets/controls",
      "_view_module_version": "1.5.0",
      "_view_name": "HTMLView",
      "description": "",
      "description_tooltip": null,
      "layout": "IPY_MODEL_3b738faeee164e7f8d5f366fbfc0d39d",
      "placeholder": "​",
      "style": "IPY_MODEL_87ffbb5a2c9d47c3b054a2cc4190def4",
      "value": " 3.95k/? [00:00&lt;00:00, 232kB/s]"
     }
    },
    "7e71c836f9084a7fac55f20ec861285d": {
     "model_module": "@jupyter-widgets/controls",
     "model_module_version": "1.5.0",
     "model_name": "ProgressStyleModel",
     "state": {
      "_model_module": "@jupyter-widgets/controls",
      "_model_module_version": "1.5.0",
      "_model_name": "ProgressStyleModel",
      "_view_count": null,
      "_view_module": "@jupyter-widgets/base",
      "_view_module_version": "1.2.0",
      "_view_name": "StyleView",
      "bar_color": null,
      "description_width": ""
     }
    },
    "81691bbd97a84a14a72e0430c1430efd": {
     "model_module": "@jupyter-widgets/base",
     "model_module_version": "1.2.0",
     "model_name": "LayoutModel",
     "state": {
      "_model_module": "@jupyter-widgets/base",
      "_model_module_version": "1.2.0",
      "_model_name": "LayoutModel",
      "_view_count": null,
      "_view_module": "@jupyter-widgets/base",
      "_view_module_version": "1.2.0",
      "_view_name": "LayoutView",
      "align_content": null,
      "align_items": null,
      "align_self": null,
      "border": null,
      "bottom": null,
      "display": null,
      "flex": null,
      "flex_flow": null,
      "grid_area": null,
      "grid_auto_columns": null,
      "grid_auto_flow": null,
      "grid_auto_rows": null,
      "grid_column": null,
      "grid_gap": null,
      "grid_row": null,
      "grid_template_areas": null,
      "grid_template_columns": null,
      "grid_template_rows": null,
      "height": null,
      "justify_content": null,
      "justify_items": null,
      "left": null,
      "margin": null,
      "max_height": null,
      "max_width": null,
      "min_height": null,
      "min_width": null,
      "object_fit": null,
      "object_position": null,
      "order": null,
      "overflow": null,
      "overflow_x": null,
      "overflow_y": null,
      "padding": null,
      "right": null,
      "top": null,
      "visibility": null,
      "width": null
     }
    },
    "84731dba966e4556b31ac32dcd69480e": {
     "model_module": "@jupyter-widgets/controls",
     "model_module_version": "1.5.0",
     "model_name": "DescriptionStyleModel",
     "state": {
      "_model_module": "@jupyter-widgets/controls",
      "_model_module_version": "1.5.0",
      "_model_name": "DescriptionStyleModel",
      "_view_count": null,
      "_view_module": "@jupyter-widgets/base",
      "_view_module_version": "1.2.0",
      "_view_name": "StyleView",
      "description_width": ""
     }
    },
    "87ffbb5a2c9d47c3b054a2cc4190def4": {
     "model_module": "@jupyter-widgets/controls",
     "model_module_version": "1.5.0",
     "model_name": "DescriptionStyleModel",
     "state": {
      "_model_module": "@jupyter-widgets/controls",
      "_model_module_version": "1.5.0",
      "_model_name": "DescriptionStyleModel",
      "_view_count": null,
      "_view_module": "@jupyter-widgets/base",
      "_view_module_version": "1.2.0",
      "_view_name": "StyleView",
      "description_width": ""
     }
    },
    "8ab4d94c67eb4f75b24d61c3326ba95a": {
     "model_module": "@jupyter-widgets/controls",
     "model_module_version": "1.5.0",
     "model_name": "FloatProgressModel",
     "state": {
      "_dom_classes": [],
      "_model_module": "@jupyter-widgets/controls",
      "_model_module_version": "1.5.0",
      "_model_name": "FloatProgressModel",
      "_view_count": null,
      "_view_module": "@jupyter-widgets/controls",
      "_view_module_version": "1.5.0",
      "_view_name": "ProgressView",
      "bar_style": "success",
      "description": "",
      "description_tooltip": null,
      "layout": "IPY_MODEL_0543822d1fed4ceba70c3b7e074a84be",
      "max": 5712,
      "min": 0,
      "orientation": "horizontal",
      "style": "IPY_MODEL_b3d41f21ca61471daeac6aaf9666d225",
      "value": 5712
     }
    },
    "96cf7ebe7d32402bae30143f5f326ed4": {
     "model_module": "@jupyter-widgets/controls",
     "model_module_version": "1.5.0",
     "model_name": "DescriptionStyleModel",
     "state": {
      "_model_module": "@jupyter-widgets/controls",
      "_model_module_version": "1.5.0",
      "_model_name": "DescriptionStyleModel",
      "_view_count": null,
      "_view_module": "@jupyter-widgets/base",
      "_view_module_version": "1.2.0",
      "_view_name": "StyleView",
      "description_width": ""
     }
    },
    "999fccd1aaf7435491737ab184bb297d": {
     "model_module": "@jupyter-widgets/controls",
     "model_module_version": "1.5.0",
     "model_name": "DescriptionStyleModel",
     "state": {
      "_model_module": "@jupyter-widgets/controls",
      "_model_module_version": "1.5.0",
      "_model_name": "DescriptionStyleModel",
      "_view_count": null,
      "_view_module": "@jupyter-widgets/base",
      "_view_module_version": "1.2.0",
      "_view_name": "StyleView",
      "description_width": ""
     }
    },
    "9b810016ba274cd6ad70c94ade55b87f": {
     "model_module": "@jupyter-widgets/controls",
     "model_module_version": "1.5.0",
     "model_name": "DescriptionStyleModel",
     "state": {
      "_model_module": "@jupyter-widgets/controls",
      "_model_module_version": "1.5.0",
      "_model_name": "DescriptionStyleModel",
      "_view_count": null,
      "_view_module": "@jupyter-widgets/base",
      "_view_module_version": "1.2.0",
      "_view_name": "StyleView",
      "description_width": ""
     }
    },
    "9b82995379b44bd7866e4d708044edee": {
     "model_module": "@jupyter-widgets/controls",
     "model_module_version": "1.5.0",
     "model_name": "HTMLModel",
     "state": {
      "_dom_classes": [],
      "_model_module": "@jupyter-widgets/controls",
      "_model_module_version": "1.5.0",
      "_model_name": "HTMLModel",
      "_view_count": null,
      "_view_module": "@jupyter-widgets/controls",
      "_view_module_version": "1.5.0",
      "_view_name": "HTMLView",
      "description": "",
      "description_tooltip": null,
      "layout": "IPY_MODEL_6a1b608646e54f04a88007bbf1b82f26",
      "placeholder": "​",
      "style": "IPY_MODEL_118790a28d30417b84df0501c6e19130",
      "value": "README.md: "
     }
    },
    "9e62d333d2e44590a99114302d9edea2": {
     "model_module": "@jupyter-widgets/base",
     "model_module_version": "1.2.0",
     "model_name": "LayoutModel",
     "state": {
      "_model_module": "@jupyter-widgets/base",
      "_model_module_version": "1.2.0",
      "_model_name": "LayoutModel",
      "_view_count": null,
      "_view_module": "@jupyter-widgets/base",
      "_view_module_version": "1.2.0",
      "_view_name": "LayoutView",
      "align_content": null,
      "align_items": null,
      "align_self": null,
      "border": null,
      "bottom": null,
      "display": null,
      "flex": null,
      "flex_flow": null,
      "grid_area": null,
      "grid_auto_columns": null,
      "grid_auto_flow": null,
      "grid_auto_rows": null,
      "grid_column": null,
      "grid_gap": null,
      "grid_row": null,
      "grid_template_areas": null,
      "grid_template_columns": null,
      "grid_template_rows": null,
      "height": null,
      "justify_content": null,
      "justify_items": null,
      "left": null,
      "margin": null,
      "max_height": null,
      "max_width": null,
      "min_height": null,
      "min_width": null,
      "object_fit": null,
      "object_position": null,
      "order": null,
      "overflow": null,
      "overflow_x": null,
      "overflow_y": null,
      "padding": null,
      "right": null,
      "top": null,
      "visibility": null,
      "width": null
     }
    },
    "a4b54d9c3b57447c9ee821c675ba12c6": {
     "model_module": "@jupyter-widgets/controls",
     "model_module_version": "1.5.0",
     "model_name": "DescriptionStyleModel",
     "state": {
      "_model_module": "@jupyter-widgets/controls",
      "_model_module_version": "1.5.0",
      "_model_name": "DescriptionStyleModel",
      "_view_count": null,
      "_view_module": "@jupyter-widgets/base",
      "_view_module_version": "1.2.0",
      "_view_name": "StyleView",
      "description_width": ""
     }
    },
    "a50fab9bcb46460c9a0817b9999692c3": {
     "model_module": "@jupyter-widgets/controls",
     "model_module_version": "1.5.0",
     "model_name": "FloatProgressModel",
     "state": {
      "_dom_classes": [],
      "_model_module": "@jupyter-widgets/controls",
      "_model_module_version": "1.5.0",
      "_model_name": "FloatProgressModel",
      "_view_count": null,
      "_view_module": "@jupyter-widgets/controls",
      "_view_module_version": "1.5.0",
      "_view_name": "ProgressView",
      "bar_style": "success",
      "description": "",
      "description_tooltip": null,
      "layout": "IPY_MODEL_6e86b7aae1d342828a39fdd63756cf98",
      "max": 25583299,
      "min": 0,
      "orientation": "horizontal",
      "style": "IPY_MODEL_0872c8c7747a40c9b22553b4973c66a7",
      "value": 25583299
     }
    },
    "b1c49a9299eb453a98acb0cd2e0712f1": {
     "model_module": "@jupyter-widgets/controls",
     "model_module_version": "1.5.0",
     "model_name": "HBoxModel",
     "state": {
      "_dom_classes": [],
      "_model_module": "@jupyter-widgets/controls",
      "_model_module_version": "1.5.0",
      "_model_name": "HBoxModel",
      "_view_count": null,
      "_view_module": "@jupyter-widgets/controls",
      "_view_module_version": "1.5.0",
      "_view_name": "HBoxView",
      "box_style": "",
      "children": [
       "IPY_MODEL_f492f1354c8848189601c027f8ad162f",
       "IPY_MODEL_d47ca4a6120340ef99ad591b85f6e6a8",
       "IPY_MODEL_ff5983eaf03e4fee93b48073d84b77e4"
      ],
      "layout": "IPY_MODEL_702d271442ef4832a334c726e8c0a35b"
     }
    },
    "b3d41f21ca61471daeac6aaf9666d225": {
     "model_module": "@jupyter-widgets/controls",
     "model_module_version": "1.5.0",
     "model_name": "ProgressStyleModel",
     "state": {
      "_model_module": "@jupyter-widgets/controls",
      "_model_module_version": "1.5.0",
      "_model_name": "ProgressStyleModel",
      "_view_count": null,
      "_view_module": "@jupyter-widgets/base",
      "_view_module_version": "1.2.0",
      "_view_name": "StyleView",
      "bar_color": null,
      "description_width": ""
     }
    },
    "be3a2fe8e7e241b889ade12ebba02544": {
     "model_module": "@jupyter-widgets/controls",
     "model_module_version": "1.5.0",
     "model_name": "HTMLModel",
     "state": {
      "_dom_classes": [],
      "_model_module": "@jupyter-widgets/controls",
      "_model_module_version": "1.5.0",
      "_model_name": "HTMLModel",
      "_view_count": null,
      "_view_module": "@jupyter-widgets/controls",
      "_view_module_version": "1.5.0",
      "_view_name": "HTMLView",
      "description": "",
      "description_tooltip": null,
      "layout": "IPY_MODEL_78ccca2c3e5641149f2c9ad80e7cbc6b",
      "placeholder": "​",
      "style": "IPY_MODEL_32e9dfa142b44dc69b9809012652c617",
      "value": " 5712/5712 [00:00&lt;00:00, 13377.84 examples/s]"
     }
    },
    "c1570630315646b5814373193c7b73b3": {
     "model_module": "@jupyter-widgets/base",
     "model_module_version": "1.2.0",
     "model_name": "LayoutModel",
     "state": {
      "_model_module": "@jupyter-widgets/base",
      "_model_module_version": "1.2.0",
      "_model_name": "LayoutModel",
      "_view_count": null,
      "_view_module": "@jupyter-widgets/base",
      "_view_module_version": "1.2.0",
      "_view_name": "LayoutView",
      "align_content": null,
      "align_items": null,
      "align_self": null,
      "border": null,
      "bottom": null,
      "display": null,
      "flex": null,
      "flex_flow": null,
      "grid_area": null,
      "grid_auto_columns": null,
      "grid_auto_flow": null,
      "grid_auto_rows": null,
      "grid_column": null,
      "grid_gap": null,
      "grid_row": null,
      "grid_template_areas": null,
      "grid_template_columns": null,
      "grid_template_rows": null,
      "height": null,
      "justify_content": null,
      "justify_items": null,
      "left": null,
      "margin": null,
      "max_height": null,
      "max_width": null,
      "min_height": null,
      "min_width": null,
      "object_fit": null,
      "object_position": null,
      "order": null,
      "overflow": null,
      "overflow_x": null,
      "overflow_y": null,
      "padding": null,
      "right": null,
      "top": null,
      "visibility": null,
      "width": "20px"
     }
    },
    "c47cd9586e9140149c5cc7316cde85d9": {
     "model_module": "@jupyter-widgets/base",
     "model_module_version": "1.2.0",
     "model_name": "LayoutModel",
     "state": {
      "_model_module": "@jupyter-widgets/base",
      "_model_module_version": "1.2.0",
      "_model_name": "LayoutModel",
      "_view_count": null,
      "_view_module": "@jupyter-widgets/base",
      "_view_module_version": "1.2.0",
      "_view_name": "LayoutView",
      "align_content": null,
      "align_items": null,
      "align_self": null,
      "border": null,
      "bottom": null,
      "display": null,
      "flex": null,
      "flex_flow": null,
      "grid_area": null,
      "grid_auto_columns": null,
      "grid_auto_flow": null,
      "grid_auto_rows": null,
      "grid_column": null,
      "grid_gap": null,
      "grid_row": null,
      "grid_template_areas": null,
      "grid_template_columns": null,
      "grid_template_rows": null,
      "height": null,
      "justify_content": null,
      "justify_items": null,
      "left": null,
      "margin": null,
      "max_height": null,
      "max_width": null,
      "min_height": null,
      "min_width": null,
      "object_fit": null,
      "object_position": null,
      "order": null,
      "overflow": null,
      "overflow_x": null,
      "overflow_y": null,
      "padding": null,
      "right": null,
      "top": null,
      "visibility": null,
      "width": null
     }
    },
    "c7771c36bfbe46a49f5fae38ae1bc9ae": {
     "model_module": "@jupyter-widgets/base",
     "model_module_version": "1.2.0",
     "model_name": "LayoutModel",
     "state": {
      "_model_module": "@jupyter-widgets/base",
      "_model_module_version": "1.2.0",
      "_model_name": "LayoutModel",
      "_view_count": null,
      "_view_module": "@jupyter-widgets/base",
      "_view_module_version": "1.2.0",
      "_view_name": "LayoutView",
      "align_content": null,
      "align_items": null,
      "align_self": null,
      "border": null,
      "bottom": null,
      "display": null,
      "flex": null,
      "flex_flow": null,
      "grid_area": null,
      "grid_auto_columns": null,
      "grid_auto_flow": null,
      "grid_auto_rows": null,
      "grid_column": null,
      "grid_gap": null,
      "grid_row": null,
      "grid_template_areas": null,
      "grid_template_columns": null,
      "grid_template_rows": null,
      "height": null,
      "justify_content": null,
      "justify_items": null,
      "left": null,
      "margin": null,
      "max_height": null,
      "max_width": null,
      "min_height": null,
      "min_width": null,
      "object_fit": null,
      "object_position": null,
      "order": null,
      "overflow": null,
      "overflow_x": null,
      "overflow_y": null,
      "padding": null,
      "right": null,
      "top": null,
      "visibility": null,
      "width": null
     }
    },
    "c8191815e7f34c63afbb49d7557fcbd7": {
     "model_module": "@jupyter-widgets/controls",
     "model_module_version": "1.5.0",
     "model_name": "FloatProgressModel",
     "state": {
      "_dom_classes": [],
      "_model_module": "@jupyter-widgets/controls",
      "_model_module_version": "1.5.0",
      "_model_name": "FloatProgressModel",
      "_view_count": null,
      "_view_module": "@jupyter-widgets/controls",
      "_view_module_version": "1.5.0",
      "_view_name": "ProgressView",
      "bar_style": "success",
      "description": "",
      "description_tooltip": null,
      "layout": "IPY_MODEL_c1570630315646b5814373193c7b73b3",
      "max": 1,
      "min": 0,
      "orientation": "horizontal",
      "style": "IPY_MODEL_10bd085faa8d4d359259cfa331d4a86c",
      "value": 1
     }
    },
    "d459ab31e18c47c89a874329247ed823": {
     "model_module": "@jupyter-widgets/base",
     "model_module_version": "1.2.0",
     "model_name": "LayoutModel",
     "state": {
      "_model_module": "@jupyter-widgets/base",
      "_model_module_version": "1.2.0",
      "_model_name": "LayoutModel",
      "_view_count": null,
      "_view_module": "@jupyter-widgets/base",
      "_view_module_version": "1.2.0",
      "_view_name": "LayoutView",
      "align_content": null,
      "align_items": null,
      "align_self": null,
      "border": null,
      "bottom": null,
      "display": null,
      "flex": null,
      "flex_flow": null,
      "grid_area": null,
      "grid_auto_columns": null,
      "grid_auto_flow": null,
      "grid_auto_rows": null,
      "grid_column": null,
      "grid_gap": null,
      "grid_row": null,
      "grid_template_areas": null,
      "grid_template_columns": null,
      "grid_template_rows": null,
      "height": null,
      "justify_content": null,
      "justify_items": null,
      "left": null,
      "margin": null,
      "max_height": null,
      "max_width": null,
      "min_height": null,
      "min_width": null,
      "object_fit": null,
      "object_position": null,
      "order": null,
      "overflow": null,
      "overflow_x": null,
      "overflow_y": null,
      "padding": null,
      "right": null,
      "top": null,
      "visibility": null,
      "width": null
     }
    },
    "d47ca4a6120340ef99ad591b85f6e6a8": {
     "model_module": "@jupyter-widgets/controls",
     "model_module_version": "1.5.0",
     "model_name": "FloatProgressModel",
     "state": {
      "_dom_classes": [],
      "_model_module": "@jupyter-widgets/controls",
      "_model_module_version": "1.5.0",
      "_model_name": "FloatProgressModel",
      "_view_count": null,
      "_view_module": "@jupyter-widgets/controls",
      "_view_module_version": "1.5.0",
      "_view_name": "ProgressView",
      "bar_style": "success",
      "description": "",
      "description_tooltip": null,
      "layout": "IPY_MODEL_c47cd9586e9140149c5cc7316cde85d9",
      "max": 129798074,
      "min": 0,
      "orientation": "horizontal",
      "style": "IPY_MODEL_203ffcb5c21240dcbdc32fc40c605cbf",
      "value": 129798074
     }
    },
    "e50451c2ee7a44a5b504318b76682a4a": {
     "model_module": "@jupyter-widgets/controls",
     "model_module_version": "1.5.0",
     "model_name": "HTMLModel",
     "state": {
      "_dom_classes": [],
      "_model_module": "@jupyter-widgets/controls",
      "_model_module_version": "1.5.0",
      "_model_name": "HTMLModel",
      "_view_count": null,
      "_view_module": "@jupyter-widgets/controls",
      "_view_module_version": "1.5.0",
      "_view_name": "HTMLView",
      "description": "",
      "description_tooltip": null,
      "layout": "IPY_MODEL_3edce68979ea468788626b2c67f0773f",
      "placeholder": "​",
      "style": "IPY_MODEL_655e09c4d0c3418fb8d6bb3a1b7704f8",
      "value": " 1311/1311 [00:00&lt;00:00, 12434.38 examples/s]"
     }
    },
    "e959b3721d354ebd82931e3e9bd2b35e": {
     "model_module": "@jupyter-widgets/controls",
     "model_module_version": "1.5.0",
     "model_name": "HBoxModel",
     "state": {
      "_dom_classes": [],
      "_model_module": "@jupyter-widgets/controls",
      "_model_module_version": "1.5.0",
      "_model_name": "HBoxModel",
      "_view_count": null,
      "_view_module": "@jupyter-widgets/controls",
      "_view_module_version": "1.5.0",
      "_view_name": "HBoxView",
      "box_style": "",
      "children": [
       "IPY_MODEL_3c97320120f840d5aa6d9344bef0b2c8",
       "IPY_MODEL_a50fab9bcb46460c9a0817b9999692c3",
       "IPY_MODEL_7361bf6a8d6240f08804bca2a2658eb7"
      ],
      "layout": "IPY_MODEL_357267ebbc724bb7aedd50a3afba76d1"
     }
    },
    "ed168d751aad47ff8e2243448c7f89a2": {
     "model_module": "@jupyter-widgets/controls",
     "model_module_version": "1.5.0",
     "model_name": "DescriptionStyleModel",
     "state": {
      "_model_module": "@jupyter-widgets/controls",
      "_model_module_version": "1.5.0",
      "_model_name": "DescriptionStyleModel",
      "_view_count": null,
      "_view_module": "@jupyter-widgets/base",
      "_view_module_version": "1.2.0",
      "_view_name": "StyleView",
      "description_width": ""
     }
    },
    "edad9c4b4503415a85f64551cfe40438": {
     "model_module": "@jupyter-widgets/base",
     "model_module_version": "1.2.0",
     "model_name": "LayoutModel",
     "state": {
      "_model_module": "@jupyter-widgets/base",
      "_model_module_version": "1.2.0",
      "_model_name": "LayoutModel",
      "_view_count": null,
      "_view_module": "@jupyter-widgets/base",
      "_view_module_version": "1.2.0",
      "_view_name": "LayoutView",
      "align_content": null,
      "align_items": null,
      "align_self": null,
      "border": null,
      "bottom": null,
      "display": null,
      "flex": null,
      "flex_flow": null,
      "grid_area": null,
      "grid_auto_columns": null,
      "grid_auto_flow": null,
      "grid_auto_rows": null,
      "grid_column": null,
      "grid_gap": null,
      "grid_row": null,
      "grid_template_areas": null,
      "grid_template_columns": null,
      "grid_template_rows": null,
      "height": null,
      "justify_content": null,
      "justify_items": null,
      "left": null,
      "margin": null,
      "max_height": null,
      "max_width": null,
      "min_height": null,
      "min_width": null,
      "object_fit": null,
      "object_position": null,
      "order": null,
      "overflow": null,
      "overflow_x": null,
      "overflow_y": null,
      "padding": null,
      "right": null,
      "top": null,
      "visibility": null,
      "width": null
     }
    },
    "f048350fa6e04ca58d76f4b14b700198": {
     "model_module": "@jupyter-widgets/controls",
     "model_module_version": "1.5.0",
     "model_name": "FloatProgressModel",
     "state": {
      "_dom_classes": [],
      "_model_module": "@jupyter-widgets/controls",
      "_model_module_version": "1.5.0",
      "_model_name": "FloatProgressModel",
      "_view_count": null,
      "_view_module": "@jupyter-widgets/controls",
      "_view_module_version": "1.5.0",
      "_view_name": "ProgressView",
      "bar_style": "success",
      "description": "",
      "description_tooltip": null,
      "layout": "IPY_MODEL_7528de23f652458f8a78b2fa3fa417a1",
      "max": 1311,
      "min": 0,
      "orientation": "horizontal",
      "style": "IPY_MODEL_7e71c836f9084a7fac55f20ec861285d",
      "value": 1311
     }
    },
    "f492f1354c8848189601c027f8ad162f": {
     "model_module": "@jupyter-widgets/controls",
     "model_module_version": "1.5.0",
     "model_name": "HTMLModel",
     "state": {
      "_dom_classes": [],
      "_model_module": "@jupyter-widgets/controls",
      "_model_module_version": "1.5.0",
      "_model_name": "HTMLModel",
      "_view_count": null,
      "_view_module": "@jupyter-widgets/controls",
      "_view_module_version": "1.5.0",
      "_view_name": "HTMLView",
      "description": "",
      "description_tooltip": null,
      "layout": "IPY_MODEL_edad9c4b4503415a85f64551cfe40438",
      "placeholder": "​",
      "style": "IPY_MODEL_ed168d751aad47ff8e2243448c7f89a2",
      "value": "multiclass/train-00000-of-00001.parquet: 100%"
     }
    },
    "ff5983eaf03e4fee93b48073d84b77e4": {
     "model_module": "@jupyter-widgets/controls",
     "model_module_version": "1.5.0",
     "model_name": "HTMLModel",
     "state": {
      "_dom_classes": [],
      "_model_module": "@jupyter-widgets/controls",
      "_model_module_version": "1.5.0",
      "_model_name": "HTMLModel",
      "_view_count": null,
      "_view_module": "@jupyter-widgets/controls",
      "_view_module_version": "1.5.0",
      "_view_name": "HTMLView",
      "description": "",
      "description_tooltip": null,
      "layout": "IPY_MODEL_5bfef388076d47518d2d6f17fefd1d05",
      "placeholder": "​",
      "style": "IPY_MODEL_84731dba966e4556b31ac32dcd69480e",
      "value": " 130M/130M [00:03&lt;00:00, 40.7MB/s]"
     }
    }
   }
  }
 },
 "nbformat": 4,
 "nbformat_minor": 0
}
